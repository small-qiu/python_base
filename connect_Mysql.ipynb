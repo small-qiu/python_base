{
 "cells": [
  {
   "cell_type": "code",
   "execution_count": 4,
   "metadata": {},
   "outputs": [
    {
     "name": "stdout",
     "output_type": "stream",
     "text": [
      "Database version: ('5.5.58',)\n"
     ]
    }
   ],
   "source": [
    "import pymysql  \n",
    "\n",
    "db = pymysql.connect(host='localhost',user='root', password='123456', port=3306)  \n",
    "cursor = db.cursor()  #cursor 方法获得 MySQL 的操作游标\n",
    "cursor.execute('SELECT VERSION()')  #execute 方法执行SQL\n",
    "data = cursor.fetchone()   #fetchone 方法获得第一条数据\n",
    "print('Database version:', data)  \n",
    "\n",
    "# 创建spiders数据库\n",
    "cursor.execute(\"CREATE DATABASE spiders DEFAULT CHARACTER SET utf8\")  \n",
    "db.close()"
   ]
  },
  {
   "cell_type": "code",
   "execution_count": 6,
   "metadata": {},
   "outputs": [],
   "source": [
    "# 创建表\n",
    "db = pymysql.connect(host='localhost', user='root', password='123456', port=3306, db='spiders') # 比上面多了一个db\n",
    "cursor = db.cursor()\n",
    "sql = 'CREATE TABLE IF NOT EXISTS students (id VARCHAR(255) NOT NULL, name VARCHAR(255) NOT NULL, age INT NOT NULL, PRIMARY KEY (id))'\n",
    "cursor.execute(sql)\n",
    "db.close()"
   ]
  },
  {
   "cell_type": "code",
   "execution_count": 7,
   "metadata": {},
   "outputs": [],
   "source": [
    "# 插入数据-增\n",
    "id = '20120001'\n",
    "user = 'Bob'\n",
    "age = 20\n",
    "\n",
    "db = pymysql.connect(host='localhost', user='root', password='123456', port=3306, db='spiders')\n",
    "cursor = db.cursor()\n",
    "sql = 'INSERT INTO students(id, name, age) values(% s, % s, % s)'\n",
    "try:\n",
    "    cursor.execute(sql, (id, user, age))\n",
    "    db.commit() # 对于数据插入、更新、删除操作，都需要调用该方法才能生效\n",
    "except:\n",
    "    db.rollback() # 相当没发生\n",
    "db.close()\n",
    "\n",
    "\n",
    "\n",
    "'''\n",
    "# 动态改变字典，常是字典格式\n",
    "data = {\n",
    "    'id': '20120001',\n",
    "    'name': 'Bob',\n",
    "    'age': 20\n",
    "}\n",
    "# 解析字典\n",
    "table = 'students'\n",
    "keys = ', '.join(data.keys())\n",
    "values = ', '.join(['% s'] * len(data))\n",
    "sql = 'INSERT INTO {table}({keys}) VALUES ({values})'.format(table=table, keys=keys, values=values)\n",
    "try:\n",
    "   if cursor.execute(sql, tuple(data.values())):\n",
    "       print('Successful')\n",
    "       db.commit()\n",
    "except:\n",
    "    print('Failed')\n",
    "    db.rollback()\n",
    "db.close()\n",
    "'''"
   ]
  },
  {
   "cell_type": "code",
   "execution_count": 9,
   "metadata": {},
   "outputs": [],
   "source": [
    "# 更新-改\n",
    "\n",
    "sql = 'UPDATE students SET age = % s WHERE name = % s'\n",
    "db = pymysql.connect(host='localhost', user='root', password='123456', port=3306, db='spiders')\n",
    "cursor = db.cursor()\n",
    "try:\n",
    "   cursor.execute(sql, (25, 'Bob'))\n",
    "   db.commit()\n",
    "except:\n",
    "   db.rollback()\n",
    "db.close()"
   ]
  },
  {
   "cell_type": "code",
   "execution_count": 15,
   "metadata": {},
   "outputs": [
    {
     "name": "stdout",
     "output_type": "stream",
     "text": [
      "INSERT INTO students(id, name, age) VALUES (% s, % s, % s) ON DUPLICATE KEY UPDATE id = % s,name = % s,age = % s\n",
      "Successful\n"
     ]
    }
   ],
   "source": [
    "# 原始数据上更新\n",
    "db = pymysql.connect(host='localhost', user='root', password='123456', port=3306, db='spiders')\n",
    "cursor = db.cursor()\n",
    "data = {\n",
    "    'id': '20120001',\n",
    "    'name': 'Bob',\n",
    "    'age': 21\n",
    "}\n",
    "\n",
    "table = 'students'\n",
    "keys = ', '.join(data.keys())\n",
    "values = ', '.join(['% s'] * len(data))\n",
    "\n",
    "sql = 'INSERT INTO {table}({keys}) VALUES ({values}) ON DUPLICATE KEY UPDATE '.format(table=table, keys=keys, values=values)\n",
    "update = ','.join([\"{key} = % s\".format(key=key) for key in data])\n",
    "sql += update\n",
    "print(sql)\n",
    "try:\n",
    "    if cursor.execute(sql, tuple(data.values())*2):\n",
    "        print('Successful')\n",
    "        db.commit()\n",
    "except:\n",
    "    print('Failed')\n",
    "    db.rollback()\n",
    "db.close()"
   ]
  },
  {
   "cell_type": "code",
   "execution_count": null,
   "metadata": {},
   "outputs": [],
   "source": [
    "# 删除\n",
    "# delect 语句\n",
    "\n",
    "# 查询\n",
    "#  cursor 的 rowcount 属性获取查询结果的条数\n",
    "#  fetchone 方法，这个方法可以获取结果的第一条数据\n",
    "#  fetchall 方法，它可以得到结果的所有数据"
   ]
  }
 ],
 "metadata": {
  "kernelspec": {
   "display_name": "Python 3",
   "language": "python",
   "name": "python3"
  },
  "language_info": {
   "codemirror_mode": {
    "name": "ipython",
    "version": 3
   },
   "file_extension": ".py",
   "mimetype": "text/x-python",
   "name": "python",
   "nbconvert_exporter": "python",
   "pygments_lexer": "ipython3",
   "version": "3.7.0"
  }
 },
 "nbformat": 4,
 "nbformat_minor": 2
}
