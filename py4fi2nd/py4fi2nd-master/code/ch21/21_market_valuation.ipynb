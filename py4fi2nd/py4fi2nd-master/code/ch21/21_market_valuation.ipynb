{
 "cells": [
  {
   "cell_type": "markdown",
   "metadata": {},
   "source": [
    "<img src=\"http://hilpisch.com/tpq_logo.png\" alt=\"The Python Quants\" width=\"35%\" align=\"right\" border=\"0\"><br>"
   ]
  },
  {
   "cell_type": "markdown",
   "metadata": {},
   "source": [
    "# Python for Finance (2nd ed.)\n",
    "\n",
    "**Mastering Data-Driven Finance**\n",
    "\n",
    "&copy; Dr. Yves J. Hilpisch | The Python Quants GmbH\n",
    "\n",
    "<img src=\"http://hilpisch.com/images/py4fi_2nd_shadow.png\" width=\"300px\" align=\"left\">"
   ]
  },
  {
   "cell_type": "markdown",
   "metadata": {},
   "source": [
    "# Model Calibration"
   ]
  },
  {
   "cell_type": "markdown",
   "metadata": {},
   "source": [
    "## The Data"
   ]
  },
  {
   "cell_type": "code",
   "execution_count": 1,
   "metadata": {
    "uuid": "f087ed8b-b432-48a9-a791-451ac477c046"
   },
   "outputs": [],
   "source": [
    "import numpy as np\n",
    "import pandas as pd\n",
    "import datetime as dt"
   ]
  },
  {
   "cell_type": "code",
   "execution_count": 2,
   "metadata": {},
   "outputs": [],
   "source": [
    "from pylab import mpl, plt\n",
    "plt.style.use('seaborn')\n",
    "mpl.rcParams['font.family'] = 'serif'\n",
    "%matplotlib inline"
   ]
  },
  {
   "cell_type": "code",
   "execution_count": 3,
   "metadata": {
    "uuid": "1d45b83a-110e-4c94-9404-859554d3f2d7"
   },
   "outputs": [],
   "source": [
    "import sys\n",
    "sys.path.append('../')\n",
    "sys.path.append('../dx')"
   ]
  },
  {
   "cell_type": "code",
   "execution_count": 4,
   "metadata": {},
   "outputs": [],
   "source": [
    "dax = pd.read_csv('../../source/tr_eikon_option_data.csv',\n",
    "                 index_col=0)  "
   ]
  },
  {
   "cell_type": "code",
   "execution_count": 5,
   "metadata": {},
   "outputs": [],
   "source": [
    "for col in ['CF_DATE', 'EXPIR_DATE']:\n",
    "    dax[col] = dax[col].apply(lambda date: pd.Timestamp(date))  "
   ]
  },
  {
   "cell_type": "code",
   "execution_count": 6,
   "metadata": {},
   "outputs": [
    {
     "name": "stdout",
     "output_type": "stream",
     "text": [
      "<class 'pandas.core.frame.DataFrame'>\n",
      "Int64Index: 115 entries, 0 to 114\n",
      "Data columns (total 7 columns):\n",
      " #   Column      Non-Null Count  Dtype         \n",
      "---  ------      --------------  -----         \n",
      " 0   Instrument  115 non-null    object        \n",
      " 1   CF_DATE     115 non-null    datetime64[ns]\n",
      " 2   EXPIR_DATE  114 non-null    datetime64[ns]\n",
      " 3   PUTCALLIND  114 non-null    object        \n",
      " 4   STRIKE_PRC  114 non-null    float64       \n",
      " 5   CF_CLOSE    115 non-null    float64       \n",
      " 6   IMP_VOLT    114 non-null    float64       \n",
      "dtypes: datetime64[ns](2), float64(3), object(2)\n",
      "memory usage: 7.2+ KB\n"
     ]
    }
   ],
   "source": [
    "dax.info()  "
   ]
  },
  {
   "cell_type": "code",
   "execution_count": 7,
   "metadata": {},
   "outputs": [
    {
     "data": {
      "text/html": [
       "<div>\n",
       "<style scoped>\n",
       "    .dataframe tbody tr th:only-of-type {\n",
       "        vertical-align: middle;\n",
       "    }\n",
       "\n",
       "    .dataframe tbody tr th {\n",
       "        vertical-align: top;\n",
       "    }\n",
       "\n",
       "    .dataframe thead th {\n",
       "        text-align: right;\n",
       "    }\n",
       "</style>\n",
       "<table border=\"1\" class=\"dataframe\">\n",
       "  <thead>\n",
       "    <tr style=\"text-align: right;\">\n",
       "      <th></th>\n",
       "      <th>CF_DATE</th>\n",
       "      <th>EXPIR_DATE</th>\n",
       "      <th>PUTCALLIND</th>\n",
       "      <th>STRIKE_PRC</th>\n",
       "      <th>CF_CLOSE</th>\n",
       "      <th>IMP_VOLT</th>\n",
       "    </tr>\n",
       "    <tr>\n",
       "      <th>Instrument</th>\n",
       "      <th></th>\n",
       "      <th></th>\n",
       "      <th></th>\n",
       "      <th></th>\n",
       "      <th></th>\n",
       "      <th></th>\n",
       "    </tr>\n",
       "  </thead>\n",
       "  <tbody>\n",
       "    <tr>\n",
       "      <th>.GDAXI</th>\n",
       "      <td>2018-04-27</td>\n",
       "      <td>NaT</td>\n",
       "      <td>NaN</td>\n",
       "      <td>NaN</td>\n",
       "      <td>12500.47</td>\n",
       "      <td>NaN</td>\n",
       "    </tr>\n",
       "    <tr>\n",
       "      <th>GDAX105000G8.EX</th>\n",
       "      <td>2018-04-27</td>\n",
       "      <td>2018-07-20</td>\n",
       "      <td>CALL</td>\n",
       "      <td>10500.0</td>\n",
       "      <td>2040.80</td>\n",
       "      <td>23.59</td>\n",
       "    </tr>\n",
       "    <tr>\n",
       "      <th>GDAX105000S8.EX</th>\n",
       "      <td>2018-04-27</td>\n",
       "      <td>2018-07-20</td>\n",
       "      <td>PUT</td>\n",
       "      <td>10500.0</td>\n",
       "      <td>32.00</td>\n",
       "      <td>23.59</td>\n",
       "    </tr>\n",
       "    <tr>\n",
       "      <th>GDAX108000G8.EX</th>\n",
       "      <td>2018-04-27</td>\n",
       "      <td>2018-07-20</td>\n",
       "      <td>CALL</td>\n",
       "      <td>10800.0</td>\n",
       "      <td>1752.40</td>\n",
       "      <td>22.02</td>\n",
       "    </tr>\n",
       "    <tr>\n",
       "      <th>GDAX108000S8.EX</th>\n",
       "      <td>2018-04-26</td>\n",
       "      <td>2018-07-20</td>\n",
       "      <td>PUT</td>\n",
       "      <td>10800.0</td>\n",
       "      <td>43.80</td>\n",
       "      <td>22.02</td>\n",
       "    </tr>\n",
       "    <tr>\n",
       "      <th>GDAX110000G8.EX</th>\n",
       "      <td>2018-04-27</td>\n",
       "      <td>2018-07-20</td>\n",
       "      <td>CALL</td>\n",
       "      <td>11000.0</td>\n",
       "      <td>1562.80</td>\n",
       "      <td>21.00</td>\n",
       "    </tr>\n",
       "    <tr>\n",
       "      <th>GDAX110000S8.EX</th>\n",
       "      <td>2018-04-27</td>\n",
       "      <td>2018-07-20</td>\n",
       "      <td>PUT</td>\n",
       "      <td>11000.0</td>\n",
       "      <td>54.50</td>\n",
       "      <td>21.00</td>\n",
       "    </tr>\n",
       "  </tbody>\n",
       "</table>\n",
       "</div>"
      ],
      "text/plain": [
       "                   CF_DATE EXPIR_DATE PUTCALLIND  STRIKE_PRC  CF_CLOSE  \\\n",
       "Instrument                                                               \n",
       ".GDAXI          2018-04-27        NaT        NaN         NaN  12500.47   \n",
       "GDAX105000G8.EX 2018-04-27 2018-07-20       CALL     10500.0   2040.80   \n",
       "GDAX105000S8.EX 2018-04-27 2018-07-20       PUT      10500.0     32.00   \n",
       "GDAX108000G8.EX 2018-04-27 2018-07-20       CALL     10800.0   1752.40   \n",
       "GDAX108000S8.EX 2018-04-26 2018-07-20       PUT      10800.0     43.80   \n",
       "GDAX110000G8.EX 2018-04-27 2018-07-20       CALL     11000.0   1562.80   \n",
       "GDAX110000S8.EX 2018-04-27 2018-07-20       PUT      11000.0     54.50   \n",
       "\n",
       "                 IMP_VOLT  \n",
       "Instrument                 \n",
       ".GDAXI                NaN  \n",
       "GDAX105000G8.EX     23.59  \n",
       "GDAX105000S8.EX     23.59  \n",
       "GDAX108000G8.EX     22.02  \n",
       "GDAX108000S8.EX     22.02  \n",
       "GDAX110000G8.EX     21.00  \n",
       "GDAX110000S8.EX     21.00  "
      ]
     },
     "execution_count": 7,
     "metadata": {},
     "output_type": "execute_result"
    }
   ],
   "source": [
    "dax.set_index('Instrument').head(7)  "
   ]
  },
  {
   "cell_type": "code",
   "execution_count": 8,
   "metadata": {},
   "outputs": [],
   "source": [
    "initial_value = dax.iloc[0]['CF_CLOSE']  "
   ]
  },
  {
   "cell_type": "code",
   "execution_count": 9,
   "metadata": {},
   "outputs": [],
   "source": [
    "calls = dax[dax['PUTCALLIND'] == 'CALL'].copy()  \n",
    "puts = dax[dax['PUTCALLIND'] == 'PUT '].copy()  "
   ]
  },
  {
   "cell_type": "code",
   "execution_count": 10,
   "metadata": {},
   "outputs": [
    {
     "data": {
      "image/png": "[encoded data removed]",
      "text/plain": [
       "<Figure size 720x432 with 2 Axes>"
      ]
     },
     "metadata": {
      "needs_background": "light"
     },
     "output_type": "display_data"
    }
   ],
   "source": [
    "calls.set_index('STRIKE_PRC')[['CF_CLOSE', 'IMP_VOLT']].plot(\n",
    "    secondary_y='IMP_VOLT', style=['bo', 'rv'], figsize=(10, 6));\n",
    "# plt.savefig('../../images/ch21/dx_cal_01.png');"
   ]
  },
  {
   "cell_type": "code",
   "execution_count": 11,
   "metadata": {},
   "outputs": [
    {
     "data": {
      "image/png": "[encoded data removed]",
      "text/plain": [
       "<Figure size 720x432 with 2 Axes>"
      ]
     },
     "metadata": {
      "needs_background": "light"
     },
     "output_type": "display_data"
    }
   ],
   "source": [
    "ax = puts.set_index('STRIKE_PRC')[['CF_CLOSE', 'IMP_VOLT']].plot(\n",
    "    secondary_y='IMP_VOLT', style=['bo', 'rv'], figsize=(10, 6))\n",
    "ax.get_legend().set_bbox_to_anchor((0.25, 0.5));\n",
    "# plt.savefig('../../images/ch21/dx_cal_02.png');"
   ]
  },
  {
   "cell_type": "markdown",
   "metadata": {},
   "source": [
    "## Model Calibration"
   ]
  },
  {
   "cell_type": "markdown",
   "metadata": {},
   "source": [
    "### Relevant Market Data"
   ]
  },
  {
   "cell_type": "code",
   "execution_count": 12,
   "metadata": {},
   "outputs": [],
   "source": [
    "limit = 500  "
   ]
  },
  {
   "cell_type": "code",
   "execution_count": 13,
   "metadata": {},
   "outputs": [],
   "source": [
    "option_selection = calls[abs(calls['STRIKE_PRC'] - initial_value) < limit].copy()  "
   ]
  },
  {
   "cell_type": "code",
   "execution_count": 14,
   "metadata": {},
   "outputs": [
    {
     "name": "stdout",
     "output_type": "stream",
     "text": [
      "<class 'pandas.core.frame.DataFrame'>\n",
      "Int64Index: 20 entries, 43 to 81\n",
      "Data columns (total 7 columns):\n",
      " #   Column      Non-Null Count  Dtype         \n",
      "---  ------      --------------  -----         \n",
      " 0   Instrument  20 non-null     object        \n",
      " 1   CF_DATE     20 non-null     datetime64[ns]\n",
      " 2   EXPIR_DATE  20 non-null     datetime64[ns]\n",
      " 3   PUTCALLIND  20 non-null     object        \n",
      " 4   STRIKE_PRC  20 non-null     float64       \n",
      " 5   CF_CLOSE    20 non-null     float64       \n",
      " 6   IMP_VOLT    20 non-null     float64       \n",
      "dtypes: datetime64[ns](2), float64(3), object(2)\n",
      "memory usage: 1.2+ KB\n"
     ]
    }
   ],
   "source": [
    "option_selection.info()  "
   ]
  },
  {
   "cell_type": "code",
   "execution_count": 15,
   "metadata": {
    "scrolled": true
   },
   "outputs": [
    {
     "data": {
      "text/html": [
       "<div>\n",
       "<style scoped>\n",
       "    .dataframe tbody tr th:only-of-type {\n",
       "        vertical-align: middle;\n",
       "    }\n",
       "\n",
       "    .dataframe tbody tr th {\n",
       "        vertical-align: top;\n",
       "    }\n",
       "\n",
       "    .dataframe thead th {\n",
       "        text-align: right;\n",
       "    }\n",
       "</style>\n",
       "<table border=\"1\" class=\"dataframe\">\n",
       "  <thead>\n",
       "    <tr style=\"text-align: right;\">\n",
       "      <th></th>\n",
       "      <th>CF_DATE</th>\n",
       "      <th>EXPIR_DATE</th>\n",
       "      <th>PUTCALLIND</th>\n",
       "      <th>STRIKE_PRC</th>\n",
       "      <th>CF_CLOSE</th>\n",
       "      <th>IMP_VOLT</th>\n",
       "    </tr>\n",
       "    <tr>\n",
       "      <th>Instrument</th>\n",
       "      <th></th>\n",
       "      <th></th>\n",
       "      <th></th>\n",
       "      <th></th>\n",
       "      <th></th>\n",
       "      <th></th>\n",
       "    </tr>\n",
       "  </thead>\n",
       "  <tbody>\n",
       "    <tr>\n",
       "      <th>GDAX128000G8.EX</th>\n",
       "      <td>2018-04-27</td>\n",
       "      <td>2018-07-20</td>\n",
       "      <td>CALL</td>\n",
       "      <td>12800.0</td>\n",
       "      <td>182.4</td>\n",
       "      <td>12.70</td>\n",
       "    </tr>\n",
       "    <tr>\n",
       "      <th>GDAX128500G8.EX</th>\n",
       "      <td>2018-04-27</td>\n",
       "      <td>2018-07-20</td>\n",
       "      <td>CALL</td>\n",
       "      <td>12850.0</td>\n",
       "      <td>162.0</td>\n",
       "      <td>12.52</td>\n",
       "    </tr>\n",
       "    <tr>\n",
       "      <th>GDAX129000G8.EX</th>\n",
       "      <td>2018-04-25</td>\n",
       "      <td>2018-07-20</td>\n",
       "      <td>CALL</td>\n",
       "      <td>12900.0</td>\n",
       "      <td>142.9</td>\n",
       "      <td>12.36</td>\n",
       "    </tr>\n",
       "    <tr>\n",
       "      <th>GDAX129500G8.EX</th>\n",
       "      <td>2018-04-27</td>\n",
       "      <td>2018-07-20</td>\n",
       "      <td>CALL</td>\n",
       "      <td>12950.0</td>\n",
       "      <td>125.4</td>\n",
       "      <td>12.21</td>\n",
       "    </tr>\n",
       "    <tr>\n",
       "      <th>GDAX130000G8.EX</th>\n",
       "      <td>2018-04-27</td>\n",
       "      <td>2018-07-20</td>\n",
       "      <td>CALL</td>\n",
       "      <td>13000.0</td>\n",
       "      <td>109.4</td>\n",
       "      <td>12.06</td>\n",
       "    </tr>\n",
       "  </tbody>\n",
       "</table>\n",
       "</div>"
      ],
      "text/plain": [
       "                   CF_DATE EXPIR_DATE PUTCALLIND  STRIKE_PRC  CF_CLOSE  \\\n",
       "Instrument                                                               \n",
       "GDAX128000G8.EX 2018-04-27 2018-07-20       CALL     12800.0     182.4   \n",
       "GDAX128500G8.EX 2018-04-27 2018-07-20       CALL     12850.0     162.0   \n",
       "GDAX129000G8.EX 2018-04-25 2018-07-20       CALL     12900.0     142.9   \n",
       "GDAX129500G8.EX 2018-04-27 2018-07-20       CALL     12950.0     125.4   \n",
       "GDAX130000G8.EX 2018-04-27 2018-07-20       CALL     13000.0     109.4   \n",
       "\n",
       "                 IMP_VOLT  \n",
       "Instrument                 \n",
       "GDAX128000G8.EX     12.70  \n",
       "GDAX128500G8.EX     12.52  \n",
       "GDAX129000G8.EX     12.36  \n",
       "GDAX129500G8.EX     12.21  \n",
       "GDAX130000G8.EX     12.06  "
      ]
     },
     "execution_count": 15,
     "metadata": {},
     "output_type": "execute_result"
    }
   ],
   "source": [
    "option_selection.set_index('Instrument').tail()  "
   ]
  },
  {
   "cell_type": "code",
   "execution_count": 16,
   "metadata": {},
   "outputs": [
    {
     "data": {
      "image/png": "[encoded data removed]",
      "text/plain": [
       "<Figure size 720x432 with 2 Axes>"
      ]
     },
     "metadata": {
      "needs_background": "light"
     },
     "output_type": "display_data"
    }
   ],
   "source": [
    "option_selection.set_index('STRIKE_PRC')[['CF_CLOSE', 'IMP_VOLT']].plot(\n",
    "    secondary_y='IMP_VOLT', style=['bo', 'rv'], figsize=(10, 6));\n",
    "# plt.savefig('../../images/ch21/dx_cal_03.png');"
   ]
  },
  {
   "cell_type": "markdown",
   "metadata": {},
   "source": [
    "### Option Modeling"
   ]
  },
  {
   "cell_type": "code",
   "execution_count": 17,
   "metadata": {
    "uuid": "b2f6b10c-bf01-46f6-958a-e0e6266adbe8"
   },
   "outputs": [],
   "source": [
    "from valuation_mcs_european import valuation_mcs_european\n",
    "from jump_diffusion import jump_diffusion\n",
    "from market_environment import market_environment\n",
    "from constant_short_rate import constant_short_rate\n",
    "from derivatives_position import derivatives_position\n",
    "from derivatives_portfolio import derivatives_portfolio"
   ]
  },
  {
   "cell_type": "code",
   "execution_count": 18,
   "metadata": {
    "uuid": "c93f5398-8620-48d1-9c6b-ae0c79653751"
   },
   "outputs": [],
   "source": [
    "pricing_date = option_selection['CF_DATE'].max()  "
   ]
  },
  {
   "cell_type": "code",
   "execution_count": 19,
   "metadata": {
    "uuid": "c191a3e9-286e-4c84-8044-aaf05f88377b"
   },
   "outputs": [],
   "source": [
    "me_dax = market_environment('DAX30', pricing_date)  "
   ]
  },
  {
   "cell_type": "code",
   "execution_count": 20,
   "metadata": {},
   "outputs": [],
   "source": [
    "maturity = pd.Timestamp(calls.iloc[0]['EXPIR_DATE'])  "
   ]
  },
  {
   "cell_type": "code",
   "execution_count": 21,
   "metadata": {
    "uuid": "52879659-97e7-4c0f-a14f-b29bea60b3c8"
   },
   "outputs": [],
   "source": [
    "me_dax.add_constant('initial_value', initial_value)  \n",
    "me_dax.add_constant('final_date', maturity)  \n",
    "me_dax.add_constant('currency', 'EUR')  "
   ]
  },
  {
   "cell_type": "code",
   "execution_count": 22,
   "metadata": {
    "uuid": "f1862ff5-ef88-4364-beba-502872ac5450"
   },
   "outputs": [],
   "source": [
    "me_dax.add_constant('frequency', 'B')  \n",
    "me_dax.add_constant('paths', 10000)  "
   ]
  },
  {
   "cell_type": "code",
   "execution_count": 23,
   "metadata": {
    "uuid": "f0aedd9b-a2c9-4713-a02d-cc5a8959408e"
   },
   "outputs": [],
   "source": [
    "csr = constant_short_rate('csr', 0.01)  \n",
    "me_dax.add_curve('discount_curve', csr)  "
   ]
  },
  {
   "cell_type": "code",
   "execution_count": 24,
   "metadata": {
    "uuid": "11c8a827-c54c-451a-93c3-9f8db6df970c"
   },
   "outputs": [],
   "source": [
    "me_dax.add_constant('volatility', 0.2)\n",
    "me_dax.add_constant('lambda', 0.8)\n",
    "me_dax.add_constant('mu', -0.2)\n",
    "me_dax.add_constant('delta', 0.1)"
   ]
  },
  {
   "cell_type": "code",
   "execution_count": 25,
   "metadata": {
    "uuid": "fd70a940-895e-43a4-a66c-d2c3bcc7c285"
   },
   "outputs": [],
   "source": [
    "dax_model = jump_diffusion('dax_model', me_dax)"
   ]
  },
  {
   "cell_type": "code",
   "execution_count": 26,
   "metadata": {
    "uuid": "fe6d0c61-4907-4466-98ae-3ca782f83964"
   },
   "outputs": [],
   "source": [
    "me_dax.add_constant('strike', initial_value)  \n",
    "me_dax.add_constant('maturity', maturity)"
   ]
  },
  {
   "cell_type": "code",
   "execution_count": 27,
   "metadata": {
    "uuid": "8e36b826-9439-49f2-b4fa-e35928b8df41"
   },
   "outputs": [],
   "source": [
    "payoff_func = 'np.maximum(maturity_value - strike, 0)'  "
   ]
  },
  {
   "cell_type": "code",
   "execution_count": 28,
   "metadata": {
    "uuid": "d33efcec-e027-4b1a-8fa1-c13696779de3"
   },
   "outputs": [],
   "source": [
    "dax_eur_call = valuation_mcs_european('dax_eur_call',\n",
    "                        dax_model, me_dax, payoff_func)  "
   ]
  },
  {
   "cell_type": "code",
   "execution_count": 29,
   "metadata": {
    "uuid": "cedcee4e-1135-4b38-9381-d74b306de63e"
   },
   "outputs": [
    {
     "data": {
      "text/plain": [
       "634.090504"
      ]
     },
     "execution_count": 29,
     "metadata": {},
     "output_type": "execute_result"
    }
   ],
   "source": [
    "dax_eur_call.present_value()  "
   ]
  },
  {
   "cell_type": "code",
   "execution_count": 30,
   "metadata": {
    "uuid": "a4a9ab6f-0810-403f-b172-d08deb80c582"
   },
   "outputs": [],
   "source": [
    "option_models = {}  \n",
    "for option in option_selection.index:\n",
    "    strike = option_selection['STRIKE_PRC'].loc[option]  \n",
    "    me_dax.add_constant('strike', strike)  \n",
    "    option_models[strike] = valuation_mcs_european(\n",
    "                                'eur_call_%d' % strike,\n",
    "                                dax_model,\n",
    "                                me_dax,\n",
    "                                payoff_func)"
   ]
  },
  {
   "cell_type": "code",
   "execution_count": 31,
   "metadata": {
    "uuid": "89ec1029-091b-4ab1-8d60-b7a604c02f69"
   },
   "outputs": [],
   "source": [
    "def calculate_model_values_old(p0):\n",
    "    ''' Returns all relevant option values.\n",
    "    \n",
    "    Parameters\n",
    "    ===========\n",
    "    p0: tuple/list\n",
    "        tuple of kappa, theta, volatility\n",
    "    \n",
    "    Returns\n",
    "    =======\n",
    "    model_values: dict\n",
    "        dictionary with model values\n",
    "    '''\n",
    "    volatility, lamb, mu, delta = p0\n",
    "    dax_model.update(volatility=volatility, lamb=lamb, mu=mu, delta=delta)\n",
    "    model_values = {}\n",
    "    for strike in option_models:\n",
    "        model_values[strike] = option_models[strike].present_value(fixed_seed=True)\n",
    "    return model_values"
   ]
  },
  {
   "cell_type": "code",
   "execution_count": 32,
   "metadata": {
    "uuid": "89ec1029-091b-4ab1-8d60-b7a604c02f69"
   },
   "outputs": [],
   "source": [
    "def calculate_model_values(p0):\n",
    "    ''' Returns all relevant option values.\n",
    "    \n",
    "    Parameters\n",
    "    ===========\n",
    "    p0: tuple/list\n",
    "        tuple of kappa, theta, volatility\n",
    "    \n",
    "    Returns\n",
    "    =======\n",
    "    model_values: dict\n",
    "        dictionary with model values\n",
    "    '''\n",
    "    volatility, lamb, mu, delta = p0\n",
    "    dax_model.update(volatility=volatility, lamb=lamb,\n",
    "                     mu=mu, delta=delta)\n",
    "    return {\n",
    "            strike: model.present_value(fixed_seed=True)\n",
    "            for strike, model in option_models.items()\n",
    "        }"
   ]
  },
  {
   "cell_type": "code",
   "execution_count": 33,
   "metadata": {
    "uuid": "d16e0a95-8543-4b08-b056-3d4f83d05e51"
   },
   "outputs": [
    {
     "data": {
      "text/plain": [
       "{12050.0: 612.630793,\n",
       " 12100.0: 573.154113,\n",
       " 12150.0: 534.825269,\n",
       " 12200.0: 497.751418,\n",
       " 12250.0: 461.925071,\n",
       " 12300.0: 427.52612,\n",
       " 12350.0: 394.533406,\n",
       " 12400.0: 362.901078,\n",
       " 12450.0: 332.642386,\n",
       " 12500.0: 303.832022,\n",
       " 12550.0: 276.622928,\n",
       " 12600.0: 251.081814,\n",
       " 12650.0: 227.209816,\n",
       " 12700.0: 205.021897,\n",
       " 12750.0: 184.444501,\n",
       " 12800.0: 165.325118,\n",
       " 12850.0: 147.589096,\n",
       " 12900.0: 131.133161,\n",
       " 12950.0: 115.947981,\n",
       " 13000.0: 102.152171}"
      ]
     },
     "execution_count": 33,
     "metadata": {},
     "output_type": "execute_result"
    }
   ],
   "source": [
    "calculate_model_values((0.1, 0.1, -0.4, 0.0))"
   ]
  },
  {
   "cell_type": "markdown",
   "metadata": {},
   "source": [
    "### Calibration Procedure"
   ]
  },
  {
   "cell_type": "code",
   "execution_count": 34,
   "metadata": {
    "uuid": "6d94c077-ebf9-46e3-8185-d4c80d12116d"
   },
   "outputs": [],
   "source": [
    "i = 0\n",
    "def mean_squared_error(p0):\n",
    "    ''' Returns the mean-squared error given\n",
    "    the model and market values.\n",
    "    \n",
    "    Parameters\n",
    "    ===========\n",
    "    p0: tuple/list\n",
    "        tuple of kappa, theta, volatility\n",
    "    \n",
    "    Returns\n",
    "    =======\n",
    "    MSE: float\n",
    "        mean-squared error\n",
    "    '''\n",
    "    global i\n",
    "    model_values = np.array(list(calculate_model_values(p0).values()))  \n",
    "    market_values = option_selection['CF_CLOSE'].values  \n",
    "    option_diffs = model_values - market_values  \n",
    "    MSE = np.sum(option_diffs ** 2) / len(option_diffs)  \n",
    "    if i % 75 == 0:\n",
    "        if i == 0:\n",
    "            print('%4s  %6s  %6s  %6s  %6s --> %6s' % \n",
    "                 ('i', 'vola', 'lambda', 'mu', 'delta', 'MSE'))\n",
    "        print('%4d  %6.3f  %6.3f  %6.3f  %6.3f --> %6.3f' % \n",
    "                (i, p0[0], p0[1], p0[2], p0[3], MSE))\n",
    "    i += 1\n",
    "    return MSE        "
   ]
  },
  {
   "cell_type": "code",
   "execution_count": 35,
   "metadata": {
    "uuid": "489f4f60-5237-4eff-be12-19abc6583ecb"
   },
   "outputs": [
    {
     "name": "stdout",
     "output_type": "stream",
     "text": [
      "   i    vola  lambda      mu   delta -->    MSE\n",
      "   0   0.100   0.100  -0.400   0.000 --> 686.617\n"
     ]
    },
    {
     "data": {
      "text/plain": [
       "686.6173429460224"
      ]
     },
     "execution_count": 35,
     "metadata": {},
     "output_type": "execute_result"
    }
   ],
   "source": [
    "mean_squared_error((0.1, 0.1, -0.4, 0.0))  "
   ]
  },
  {
   "cell_type": "code",
   "execution_count": 36,
   "metadata": {
    "uuid": "d4d06a9e-929b-4a02-95c1-433529015988"
   },
   "outputs": [],
   "source": [
    "import scipy.optimize as spo"
   ]
  },
  {
   "cell_type": "code",
   "execution_count": 37,
   "metadata": {
    "uuid": "15b93990-3228-4330-b5df-10915827ebcc"
   },
   "outputs": [
    {
     "name": "stdout",
     "output_type": "stream",
     "text": [
      "   i    vola  lambda      mu   delta -->    MSE\n",
      "   0   0.100   0.100  -0.400   0.000 --> 686.617\n",
      "  75   0.100   0.300  -0.400   0.100 --> 5206.726\n",
      " 150   0.100   0.500  -0.300   0.060 --> 12291.888\n",
      " 225   0.100   0.700  -0.200   0.020 --> 7044.512\n",
      " 300   0.125   0.200  -0.200   0.120 --> 928.079\n",
      " 375   0.125   0.400  -0.100   0.080 --> 778.999\n",
      " 450   0.125   0.600   0.000   0.040 --> 454.891\n",
      " 525   0.150   0.200  -0.400   0.000 --> 16571.403\n",
      " 600   0.150   0.400  -0.400   0.100 --> 47027.816\n",
      " 675   0.150   0.600  -0.300   0.060 --> 56710.781\n",
      " 750   0.175   0.100  -0.200   0.020 --> 14827.909\n",
      " 825   0.175   0.300  -0.200   0.120 --> 25632.328\n",
      " 900   0.175   0.500  -0.100   0.080 --> 20727.821\n",
      " 975   0.175   0.700   0.000   0.040 --> 13607.617\n",
      "1050   0.200   0.300  -0.400   0.000 --> 78412.863\n",
      "1125   0.200   0.500  -0.400   0.100 --> 131030.990\n",
      "1200   0.200   0.700  -0.300   0.060 --> 127299.100\n",
      "CPU times: user 1min 27s, sys: 2.76 s, total: 1min 30s\n",
      "Wall time: 1min 30s\n"
     ]
    }
   ],
   "source": [
    "%%time\n",
    "i = 0\n",
    "opt_global = spo.brute(mean_squared_error,\n",
    "                  ((0.10, 0.201, 0.025),  # range for volatility\n",
    "                   (0.10, 0.80, 0.10),  # range for jump intensity\n",
    "                   (-0.40, 0.01, 0.10),  # range for average jump size\n",
    "                   (0.00, 0.121, 0.02)),  # range for jump variability\n",
    "                 finish=None)"
   ]
  },
  {
   "cell_type": "code",
   "execution_count": 38,
   "metadata": {
    "uuid": "359c3f5f-4f47-4e53-a916-85d3c745ed1b"
   },
   "outputs": [
    {
     "data": {
      "text/plain": [
       "13.64711871961401"
      ]
     },
     "execution_count": 38,
     "metadata": {},
     "output_type": "execute_result"
    }
   ],
   "source": [
    "mean_squared_error(opt_global)"
   ]
  },
  {
   "cell_type": "code",
   "execution_count": 39,
   "metadata": {
    "uuid": "9fd46baf-28af-4276-a1c1-b3e521550cdd"
   },
   "outputs": [
    {
     "name": "stdout",
     "output_type": "stream",
     "text": [
      "   i    vola  lambda      mu   delta -->    MSE\n",
      "   0   0.100   0.200  -0.300   0.000 --> 13.647\n",
      "  75   0.098   0.204  -0.313  -0.000 -->  7.860\n",
      "Optimization terminated successfully.\n",
      "         Current function value: 7.858895\n",
      "         Iterations: 63\n",
      "         Function evaluations: 129\n",
      "CPU times: user 9.4 s, sys: 293 ms, total: 9.69 s\n",
      "Wall time: 9.71 s\n"
     ]
    }
   ],
   "source": [
    "%%time\n",
    "i = 0\n",
    "opt_local = spo.fmin(mean_squared_error, opt_global,\n",
    "                     xtol=0.00001, ftol=0.00001,\n",
    "                     maxiter=200, maxfun=550)"
   ]
  },
  {
   "cell_type": "code",
   "execution_count": 40,
   "metadata": {
    "uuid": "d7c22ea7-b3dd-4408-9ef2-3a986354ba26"
   },
   "outputs": [
    {
     "name": "stdout",
     "output_type": "stream",
     "text": [
      "   i    vola  lambda      mu   delta -->    MSE\n",
      "   0   0.098   0.204  -0.313  -0.000 -->  7.859\n"
     ]
    },
    {
     "data": {
      "text/plain": [
       "7.858895331062939"
      ]
     },
     "execution_count": 40,
     "metadata": {},
     "output_type": "execute_result"
    }
   ],
   "source": [
    "i = 0\n",
    "mean_squared_error(opt_local)  "
   ]
  },
  {
   "cell_type": "code",
   "execution_count": 41,
   "metadata": {
    "uuid": "70b888ee-8d31-46b2-86be-ad95dedd347a"
   },
   "outputs": [
    {
     "data": {
      "text/plain": [
       "{12050.0: 647.605263,\n",
       " 12100.0: 607.529685,\n",
       " 12150.0: 568.544293,\n",
       " 12200.0: 530.727453,\n",
       " 12250.0: 494.082633,\n",
       " 12300.0: 458.675596,\n",
       " 12350.0: 424.61369,\n",
       " 12400.0: 391.960168,\n",
       " 12450.0: 360.62764,\n",
       " 12500.0: 330.60392,\n",
       " 12550.0: 301.991188,\n",
       " 12600.0: 274.858086,\n",
       " 12650.0: 249.384354,\n",
       " 12700.0: 225.581816,\n",
       " 12750.0: 203.457141,\n",
       " 12800.0: 182.986208,\n",
       " 12850.0: 163.988631,\n",
       " 12900.0: 146.364384,\n",
       " 12950.0: 130.012102,\n",
       " 13000.0: 114.93825}"
      ]
     },
     "execution_count": 41,
     "metadata": {},
     "output_type": "execute_result"
    }
   ],
   "source": [
    "calculate_model_values(opt_local)  "
   ]
  },
  {
   "cell_type": "code",
   "execution_count": 42,
   "metadata": {
    "uuid": "d6cf96da-5139-435e-8ed9-6be593fa7a15"
   },
   "outputs": [],
   "source": [
    "option_selection['MODEL'] = np.array(list(calculate_model_values(opt_local).values()))\n",
    "option_selection['ERRORS_EUR'] = (option_selection['MODEL'] -\n",
    "                                  option_selection['CF_CLOSE'])\n",
    "option_selection['ERRORS_%'] = (option_selection['ERRORS_EUR'] /\n",
    "                                option_selection['CF_CLOSE']) * 100"
   ]
  },
  {
   "cell_type": "code",
   "execution_count": 43,
   "metadata": {
    "uuid": "716cd81a-0e06-405c-ade7-7fa407ce19cb"
   },
   "outputs": [
    {
     "data": {
      "text/html": [
       "<div>\n",
       "<style scoped>\n",
       "    .dataframe tbody tr th:only-of-type {\n",
       "        vertical-align: middle;\n",
       "    }\n",
       "\n",
       "    .dataframe tbody tr th {\n",
       "        vertical-align: top;\n",
       "    }\n",
       "\n",
       "    .dataframe thead th {\n",
       "        text-align: right;\n",
       "    }\n",
       "</style>\n",
       "<table border=\"1\" class=\"dataframe\">\n",
       "  <thead>\n",
       "    <tr style=\"text-align: right;\">\n",
       "      <th></th>\n",
       "      <th>MODEL</th>\n",
       "      <th>CF_CLOSE</th>\n",
       "      <th>ERRORS_EUR</th>\n",
       "      <th>ERRORS_%</th>\n",
       "    </tr>\n",
       "  </thead>\n",
       "  <tbody>\n",
       "    <tr>\n",
       "      <th>43</th>\n",
       "      <td>647.605263</td>\n",
       "      <td>642.6</td>\n",
       "      <td>5.005263</td>\n",
       "      <td>0.778908</td>\n",
       "    </tr>\n",
       "    <tr>\n",
       "      <th>45</th>\n",
       "      <td>607.529685</td>\n",
       "      <td>604.4</td>\n",
       "      <td>3.129685</td>\n",
       "      <td>0.517817</td>\n",
       "    </tr>\n",
       "    <tr>\n",
       "      <th>47</th>\n",
       "      <td>568.544293</td>\n",
       "      <td>567.1</td>\n",
       "      <td>1.444293</td>\n",
       "      <td>0.254680</td>\n",
       "    </tr>\n",
       "    <tr>\n",
       "      <th>49</th>\n",
       "      <td>530.727453</td>\n",
       "      <td>530.4</td>\n",
       "      <td>0.327453</td>\n",
       "      <td>0.061737</td>\n",
       "    </tr>\n",
       "    <tr>\n",
       "      <th>51</th>\n",
       "      <td>494.082633</td>\n",
       "      <td>494.8</td>\n",
       "      <td>-0.717367</td>\n",
       "      <td>-0.144981</td>\n",
       "    </tr>\n",
       "    <tr>\n",
       "      <th>53</th>\n",
       "      <td>458.675596</td>\n",
       "      <td>460.3</td>\n",
       "      <td>-1.624404</td>\n",
       "      <td>-0.352901</td>\n",
       "    </tr>\n",
       "    <tr>\n",
       "      <th>55</th>\n",
       "      <td>424.613690</td>\n",
       "      <td>426.8</td>\n",
       "      <td>-2.186310</td>\n",
       "      <td>-0.512256</td>\n",
       "    </tr>\n",
       "    <tr>\n",
       "      <th>57</th>\n",
       "      <td>391.960168</td>\n",
       "      <td>394.4</td>\n",
       "      <td>-2.439832</td>\n",
       "      <td>-0.618619</td>\n",
       "    </tr>\n",
       "    <tr>\n",
       "      <th>59</th>\n",
       "      <td>360.627640</td>\n",
       "      <td>363.3</td>\n",
       "      <td>-2.672360</td>\n",
       "      <td>-0.735579</td>\n",
       "    </tr>\n",
       "    <tr>\n",
       "      <th>61</th>\n",
       "      <td>330.603920</td>\n",
       "      <td>333.3</td>\n",
       "      <td>-2.696080</td>\n",
       "      <td>-0.808905</td>\n",
       "    </tr>\n",
       "    <tr>\n",
       "      <th>63</th>\n",
       "      <td>301.991188</td>\n",
       "      <td>304.8</td>\n",
       "      <td>-2.808812</td>\n",
       "      <td>-0.921526</td>\n",
       "    </tr>\n",
       "    <tr>\n",
       "      <th>65</th>\n",
       "      <td>274.858086</td>\n",
       "      <td>277.5</td>\n",
       "      <td>-2.641914</td>\n",
       "      <td>-0.952041</td>\n",
       "    </tr>\n",
       "    <tr>\n",
       "      <th>67</th>\n",
       "      <td>249.384354</td>\n",
       "      <td>251.7</td>\n",
       "      <td>-2.315646</td>\n",
       "      <td>-0.920002</td>\n",
       "    </tr>\n",
       "    <tr>\n",
       "      <th>69</th>\n",
       "      <td>225.581816</td>\n",
       "      <td>227.3</td>\n",
       "      <td>-1.718184</td>\n",
       "      <td>-0.755910</td>\n",
       "    </tr>\n",
       "    <tr>\n",
       "      <th>71</th>\n",
       "      <td>203.457141</td>\n",
       "      <td>204.1</td>\n",
       "      <td>-0.642859</td>\n",
       "      <td>-0.314973</td>\n",
       "    </tr>\n",
       "    <tr>\n",
       "      <th>73</th>\n",
       "      <td>182.986208</td>\n",
       "      <td>182.4</td>\n",
       "      <td>0.586208</td>\n",
       "      <td>0.321386</td>\n",
       "    </tr>\n",
       "    <tr>\n",
       "      <th>75</th>\n",
       "      <td>163.988631</td>\n",
       "      <td>162.0</td>\n",
       "      <td>1.988631</td>\n",
       "      <td>1.227550</td>\n",
       "    </tr>\n",
       "    <tr>\n",
       "      <th>77</th>\n",
       "      <td>146.364384</td>\n",
       "      <td>142.9</td>\n",
       "      <td>3.464384</td>\n",
       "      <td>2.424341</td>\n",
       "    </tr>\n",
       "    <tr>\n",
       "      <th>79</th>\n",
       "      <td>130.012102</td>\n",
       "      <td>125.4</td>\n",
       "      <td>4.612102</td>\n",
       "      <td>3.677912</td>\n",
       "    </tr>\n",
       "    <tr>\n",
       "      <th>81</th>\n",
       "      <td>114.938250</td>\n",
       "      <td>109.4</td>\n",
       "      <td>5.538250</td>\n",
       "      <td>5.062386</td>\n",
       "    </tr>\n",
       "  </tbody>\n",
       "</table>\n",
       "</div>"
      ],
      "text/plain": [
       "         MODEL  CF_CLOSE  ERRORS_EUR  ERRORS_%\n",
       "43  647.605263     642.6    5.005263  0.778908\n",
       "45  607.529685     604.4    3.129685  0.517817\n",
       "47  568.544293     567.1    1.444293  0.254680\n",
       "49  530.727453     530.4    0.327453  0.061737\n",
       "51  494.082633     494.8   -0.717367 -0.144981\n",
       "53  458.675596     460.3   -1.624404 -0.352901\n",
       "55  424.613690     426.8   -2.186310 -0.512256\n",
       "57  391.960168     394.4   -2.439832 -0.618619\n",
       "59  360.627640     363.3   -2.672360 -0.735579\n",
       "61  330.603920     333.3   -2.696080 -0.808905\n",
       "63  301.991188     304.8   -2.808812 -0.921526\n",
       "65  274.858086     277.5   -2.641914 -0.952041\n",
       "67  249.384354     251.7   -2.315646 -0.920002\n",
       "69  225.581816     227.3   -1.718184 -0.755910\n",
       "71  203.457141     204.1   -0.642859 -0.314973\n",
       "73  182.986208     182.4    0.586208  0.321386\n",
       "75  163.988631     162.0    1.988631  1.227550\n",
       "77  146.364384     142.9    3.464384  2.424341\n",
       "79  130.012102     125.4    4.612102  3.677912\n",
       "81  114.938250     109.4    5.538250  5.062386"
      ]
     },
     "execution_count": 43,
     "metadata": {},
     "output_type": "execute_result"
    }
   ],
   "source": [
    "option_selection[['MODEL', 'CF_CLOSE', 'ERRORS_EUR', 'ERRORS_%']]"
   ]
  },
  {
   "cell_type": "code",
   "execution_count": 44,
   "metadata": {
    "uuid": "91c24e54-e18a-4cfe-88b2-82ef82947b9c"
   },
   "outputs": [
    {
     "data": {
      "text/plain": [
       "0.182"
      ]
     },
     "execution_count": 44,
     "metadata": {},
     "output_type": "execute_result"
    }
   ],
   "source": [
    "round(option_selection['ERRORS_EUR'].mean(), 3)  "
   ]
  },
  {
   "cell_type": "code",
   "execution_count": 45,
   "metadata": {
    "uuid": "91c24e54-e18a-4cfe-88b2-82ef82947b9c"
   },
   "outputs": [
    {
     "data": {
      "text/plain": [
       "0.364"
      ]
     },
     "execution_count": 45,
     "metadata": {},
     "output_type": "execute_result"
    }
   ],
   "source": [
    "round(option_selection['ERRORS_%'].mean(), 3)  "
   ]
  },
  {
   "cell_type": "code",
   "execution_count": 46,
   "metadata": {
    "uuid": "9d2912c2-9ab3-4423-95d5-984df6f9f31e"
   },
   "outputs": [
    {
     "data": {
      "image/png": "[encoded data removed]",
      "text/plain": [
       "<Figure size 720x720 with 3 Axes>"
      ]
     },
     "metadata": {
      "needs_background": "light"
     },
     "output_type": "display_data"
    }
   ],
   "source": [
    "fix, (ax1, ax2, ax3) = plt.subplots(3, sharex=True, figsize=(10, 10))\n",
    "strikes = option_selection['STRIKE_PRC'].values\n",
    "ax1.plot(strikes, option_selection['CF_CLOSE'], label='market quotes')\n",
    "ax1.plot(strikes, option_selection['MODEL'], 'ro', label='model values')\n",
    "ax1.set_ylabel('option values')\n",
    "ax1.legend(loc=0)\n",
    "wi = 15\n",
    "ax2.bar(strikes - wi / 2., option_selection['ERRORS_EUR'], width=wi)\n",
    "ax2.set_ylabel('errors [EUR]')\n",
    "ax3.bar(strikes - wi / 2., option_selection['ERRORS_%'], width=wi)\n",
    "ax3.set_ylabel('errors [%]')\n",
    "ax3.set_xlabel('strikes');\n",
    "# plt.savefig('../../images/ch21/dx_cal_04.png');"
   ]
  },
  {
   "cell_type": "markdown",
   "metadata": {},
   "source": [
    "## Market-Based Valuation"
   ]
  },
  {
   "cell_type": "markdown",
   "metadata": {},
   "source": [
    "### Modeling Option Positions"
   ]
  },
  {
   "cell_type": "code",
   "execution_count": 47,
   "metadata": {
    "uuid": "40decf0f-1908-48e8-b5c3-0fa5b667575c"
   },
   "outputs": [],
   "source": [
    "me_dax = market_environment('me_dax', pricing_date)\n",
    "me_dax.add_constant('initial_value', initial_value)\n",
    "me_dax.add_constant('final_date', pricing_date)\n",
    "me_dax.add_constant('currency', 'EUR')"
   ]
  },
  {
   "cell_type": "code",
   "execution_count": 48,
   "metadata": {
    "uuid": "88c93f7b-7944-4724-8b7d-a8f9d231d926"
   },
   "outputs": [],
   "source": [
    "me_dax.add_constant('volatility', opt_local[0])  \n",
    "me_dax.add_constant('lambda', opt_local[1])  \n",
    "me_dax.add_constant('mu', opt_local[2])  \n",
    "me_dax.add_constant('delta', opt_local[3])  "
   ]
  },
  {
   "cell_type": "code",
   "execution_count": 49,
   "metadata": {
    "uuid": "8d92c037-79db-4663-9ad4-863dc720d160"
   },
   "outputs": [],
   "source": [
    "me_dax.add_constant('model', 'jd')"
   ]
  },
  {
   "cell_type": "code",
   "execution_count": 50,
   "metadata": {
    "uuid": "ee26163e-cfc2-4bd4-99ef-d9d877dc9592"
   },
   "outputs": [],
   "source": [
    "payoff_func = 'np.maximum(strike - instrument_values, 0)'"
   ]
  },
  {
   "cell_type": "code",
   "execution_count": 51,
   "metadata": {
    "uuid": "f4882acb-2157-4073-b2e7-b9c79a428a2c"
   },
   "outputs": [],
   "source": [
    "shared = market_environment('share', pricing_date)  \n",
    "shared.add_constant('maturity', maturity)  \n",
    "shared.add_constant('currency', 'EUR')  "
   ]
  },
  {
   "cell_type": "code",
   "execution_count": 52,
   "metadata": {
    "uuid": "e48619d3-c12d-4387-bc0d-51dccd00d19e"
   },
   "outputs": [],
   "source": [
    "option_positions = {}\n",
    "option_environments = {}\n",
    "for option in option_selection.index:\n",
    "    option_environments[option] = market_environment(\n",
    "        'am_put_%d' % option, pricing_date)  \n",
    "    strike = option_selection['STRIKE_PRC'].loc[option]  \n",
    "    option_environments[option].add_constant('strike', strike)  \n",
    "    option_environments[option].add_environment(shared)  \n",
    "    option_positions['am_put_%d' % strike] = \\\n",
    "                    derivatives_position(\n",
    "                        'am_put_%d' % strike,\n",
    "                        quantity=np.random.randint(10, 50),\n",
    "                        underlying='dax_model',\n",
    "                        mar_env=option_environments[option],\n",
    "                        otype='American',\n",
    "                        payoff_func=payoff_func)  "
   ]
  },
  {
   "cell_type": "markdown",
   "metadata": {},
   "source": [
    "### The Options Portfolio"
   ]
  },
  {
   "cell_type": "code",
   "execution_count": 53,
   "metadata": {
    "uuid": "f885f822-7d78-4841-99c5-f30f1bf23ebb"
   },
   "outputs": [],
   "source": [
    "val_env = market_environment('val_env', pricing_date)\n",
    "val_env.add_constant('starting_date', pricing_date)\n",
    "val_env.add_constant('final_date', pricing_date)  \n",
    "val_env.add_curve('discount_curve', csr)\n",
    "val_env.add_constant('frequency', 'B')\n",
    "val_env.add_constant('paths', 25000)"
   ]
  },
  {
   "cell_type": "code",
   "execution_count": 54,
   "metadata": {
    "uuid": "d9a3a473-3cfb-49ab-be94-848349683a9a"
   },
   "outputs": [],
   "source": [
    "underlyings = {'dax_model' : me_dax}  "
   ]
  },
  {
   "cell_type": "code",
   "execution_count": 55,
   "metadata": {
    "uuid": "590ae8ed-39b9-42a3-84f2-35b2b400d8b8"
   },
   "outputs": [],
   "source": [
    "portfolio = derivatives_portfolio('portfolio', option_positions,\n",
    "                                  val_env, underlyings)  "
   ]
  },
  {
   "cell_type": "code",
   "execution_count": 56,
   "metadata": {
    "uuid": "11539da8-35b0-4daf-94ee-52aae7d9fca8"
   },
   "outputs": [
    {
     "name": "stdout",
     "output_type": "stream",
     "text": [
      "CPU times: user 5min 12s, sys: 29.3 s, total: 5min 41s\n",
      "Wall time: 51.4 s\n"
     ]
    }
   ],
   "source": [
    "%time results = portfolio.get_statistics(fixed_seed=True)"
   ]
  },
  {
   "cell_type": "code",
   "execution_count": 57,
   "metadata": {
    "uuid": "883fa311-3410-4572-a8d1-a526e2914f69"
   },
   "outputs": [
    {
     "data": {
      "text/html": [
       "<div>\n",
       "<style scoped>\n",
       "    .dataframe tbody tr th:only-of-type {\n",
       "        vertical-align: middle;\n",
       "    }\n",
       "\n",
       "    .dataframe tbody tr th {\n",
       "        vertical-align: top;\n",
       "    }\n",
       "\n",
       "    .dataframe thead th {\n",
       "        text-align: right;\n",
       "    }\n",
       "</style>\n",
       "<table border=\"1\" class=\"dataframe\">\n",
       "  <thead>\n",
       "    <tr style=\"text-align: right;\">\n",
       "      <th></th>\n",
       "      <th>name</th>\n",
       "      <th>quant.</th>\n",
       "      <th>value</th>\n",
       "      <th>curr.</th>\n",
       "      <th>pos_value</th>\n",
       "      <th>pos_delta</th>\n",
       "      <th>pos_vega</th>\n",
       "    </tr>\n",
       "  </thead>\n",
       "  <tbody>\n",
       "    <tr>\n",
       "      <th>0</th>\n",
       "      <td>am_put_12050</td>\n",
       "      <td>37</td>\n",
       "      <td>154.4</td>\n",
       "      <td>EUR</td>\n",
       "      <td>5712.7</td>\n",
       "      <td>-4.9</td>\n",
       "      <td>43990.0</td>\n",
       "    </tr>\n",
       "    <tr>\n",
       "      <th>1</th>\n",
       "      <td>am_put_12100</td>\n",
       "      <td>42</td>\n",
       "      <td>163.9</td>\n",
       "      <td>EUR</td>\n",
       "      <td>6885.0</td>\n",
       "      <td>-5.9</td>\n",
       "      <td>57904.1</td>\n",
       "    </tr>\n",
       "    <tr>\n",
       "      <th>2</th>\n",
       "      <td>am_put_12150</td>\n",
       "      <td>49</td>\n",
       "      <td>175.9</td>\n",
       "      <td>EUR</td>\n",
       "      <td>8620.7</td>\n",
       "      <td>-8.0</td>\n",
       "      <td>65080.3</td>\n",
       "    </tr>\n",
       "    <tr>\n",
       "      <th>3</th>\n",
       "      <td>am_put_12200</td>\n",
       "      <td>49</td>\n",
       "      <td>186.4</td>\n",
       "      <td>EUR</td>\n",
       "      <td>9135.6</td>\n",
       "      <td>-8.7</td>\n",
       "      <td>68524.0</td>\n",
       "    </tr>\n",
       "    <tr>\n",
       "      <th>4</th>\n",
       "      <td>am_put_12250</td>\n",
       "      <td>31</td>\n",
       "      <td>196.6</td>\n",
       "      <td>EUR</td>\n",
       "      <td>6094.0</td>\n",
       "      <td>-5.8</td>\n",
       "      <td>54333.7</td>\n",
       "    </tr>\n",
       "    <tr>\n",
       "      <th>5</th>\n",
       "      <td>am_put_12300</td>\n",
       "      <td>44</td>\n",
       "      <td>210.8</td>\n",
       "      <td>EUR</td>\n",
       "      <td>9275.1</td>\n",
       "      <td>-9.0</td>\n",
       "      <td>81977.3</td>\n",
       "    </tr>\n",
       "    <tr>\n",
       "      <th>6</th>\n",
       "      <td>am_put_12350</td>\n",
       "      <td>40</td>\n",
       "      <td>226.3</td>\n",
       "      <td>EUR</td>\n",
       "      <td>9050.1</td>\n",
       "      <td>-9.0</td>\n",
       "      <td>78761.0</td>\n",
       "    </tr>\n",
       "    <tr>\n",
       "      <th>7</th>\n",
       "      <td>am_put_12400</td>\n",
       "      <td>32</td>\n",
       "      <td>243.3</td>\n",
       "      <td>EUR</td>\n",
       "      <td>7784.1</td>\n",
       "      <td>-8.1</td>\n",
       "      <td>66047.0</td>\n",
       "    </tr>\n",
       "    <tr>\n",
       "      <th>8</th>\n",
       "      <td>am_put_12450</td>\n",
       "      <td>49</td>\n",
       "      <td>262.0</td>\n",
       "      <td>EUR</td>\n",
       "      <td>12837.9</td>\n",
       "      <td>-13.9</td>\n",
       "      <td>105053.3</td>\n",
       "    </tr>\n",
       "    <tr>\n",
       "      <th>9</th>\n",
       "      <td>am_put_12500</td>\n",
       "      <td>25</td>\n",
       "      <td>281.4</td>\n",
       "      <td>EUR</td>\n",
       "      <td>7034.7</td>\n",
       "      <td>-8.0</td>\n",
       "      <td>56939.1</td>\n",
       "    </tr>\n",
       "    <tr>\n",
       "      <th>10</th>\n",
       "      <td>am_put_12550</td>\n",
       "      <td>16</td>\n",
       "      <td>302.5</td>\n",
       "      <td>EUR</td>\n",
       "      <td>4839.3</td>\n",
       "      <td>-5.5</td>\n",
       "      <td>36598.5</td>\n",
       "    </tr>\n",
       "    <tr>\n",
       "      <th>11</th>\n",
       "      <td>am_put_12600</td>\n",
       "      <td>45</td>\n",
       "      <td>326.4</td>\n",
       "      <td>EUR</td>\n",
       "      <td>14688.8</td>\n",
       "      <td>-17.1</td>\n",
       "      <td>105067.5</td>\n",
       "    </tr>\n",
       "    <tr>\n",
       "      <th>12</th>\n",
       "      <td>am_put_12650</td>\n",
       "      <td>46</td>\n",
       "      <td>353.3</td>\n",
       "      <td>EUR</td>\n",
       "      <td>16252.8</td>\n",
       "      <td>-19.3</td>\n",
       "      <td>104446.8</td>\n",
       "    </tr>\n",
       "    <tr>\n",
       "      <th>13</th>\n",
       "      <td>am_put_12700</td>\n",
       "      <td>46</td>\n",
       "      <td>380.6</td>\n",
       "      <td>EUR</td>\n",
       "      <td>17509.1</td>\n",
       "      <td>-20.8</td>\n",
       "      <td>107269.3</td>\n",
       "    </tr>\n",
       "    <tr>\n",
       "      <th>14</th>\n",
       "      <td>am_put_12750</td>\n",
       "      <td>19</td>\n",
       "      <td>411.0</td>\n",
       "      <td>EUR</td>\n",
       "      <td>7809.5</td>\n",
       "      <td>-9.4</td>\n",
       "      <td>42384.2</td>\n",
       "    </tr>\n",
       "    <tr>\n",
       "      <th>15</th>\n",
       "      <td>am_put_12800</td>\n",
       "      <td>36</td>\n",
       "      <td>438.5</td>\n",
       "      <td>EUR</td>\n",
       "      <td>15785.9</td>\n",
       "      <td>-18.8</td>\n",
       "      <td>81348.8</td>\n",
       "    </tr>\n",
       "    <tr>\n",
       "      <th>16</th>\n",
       "      <td>am_put_12850</td>\n",
       "      <td>26</td>\n",
       "      <td>471.3</td>\n",
       "      <td>EUR</td>\n",
       "      <td>12252.9</td>\n",
       "      <td>-14.5</td>\n",
       "      <td>55255.0</td>\n",
       "    </tr>\n",
       "    <tr>\n",
       "      <th>17</th>\n",
       "      <td>am_put_12900</td>\n",
       "      <td>14</td>\n",
       "      <td>506.1</td>\n",
       "      <td>EUR</td>\n",
       "      <td>7085.0</td>\n",
       "      <td>-8.2</td>\n",
       "      <td>29196.1</td>\n",
       "    </tr>\n",
       "    <tr>\n",
       "      <th>18</th>\n",
       "      <td>am_put_12950</td>\n",
       "      <td>22</td>\n",
       "      <td>542.5</td>\n",
       "      <td>EUR</td>\n",
       "      <td>11934.7</td>\n",
       "      <td>-13.8</td>\n",
       "      <td>42602.5</td>\n",
       "    </tr>\n",
       "    <tr>\n",
       "      <th>19</th>\n",
       "      <td>am_put_13000</td>\n",
       "      <td>18</td>\n",
       "      <td>579.4</td>\n",
       "      <td>EUR</td>\n",
       "      <td>10428.5</td>\n",
       "      <td>-11.7</td>\n",
       "      <td>34753.3</td>\n",
       "    </tr>\n",
       "  </tbody>\n",
       "</table>\n",
       "</div>"
      ],
      "text/plain": [
       "            name  quant.  value curr.  pos_value  pos_delta  pos_vega\n",
       "0   am_put_12050      37  154.4   EUR     5712.7       -4.9   43990.0\n",
       "1   am_put_12100      42  163.9   EUR     6885.0       -5.9   57904.1\n",
       "2   am_put_12150      49  175.9   EUR     8620.7       -8.0   65080.3\n",
       "3   am_put_12200      49  186.4   EUR     9135.6       -8.7   68524.0\n",
       "4   am_put_12250      31  196.6   EUR     6094.0       -5.8   54333.7\n",
       "5   am_put_12300      44  210.8   EUR     9275.1       -9.0   81977.3\n",
       "6   am_put_12350      40  226.3   EUR     9050.1       -9.0   78761.0\n",
       "7   am_put_12400      32  243.3   EUR     7784.1       -8.1   66047.0\n",
       "8   am_put_12450      49  262.0   EUR    12837.9      -13.9  105053.3\n",
       "9   am_put_12500      25  281.4   EUR     7034.7       -8.0   56939.1\n",
       "10  am_put_12550      16  302.5   EUR     4839.3       -5.5   36598.5\n",
       "11  am_put_12600      45  326.4   EUR    14688.8      -17.1  105067.5\n",
       "12  am_put_12650      46  353.3   EUR    16252.8      -19.3  104446.8\n",
       "13  am_put_12700      46  380.6   EUR    17509.1      -20.8  107269.3\n",
       "14  am_put_12750      19  411.0   EUR     7809.5       -9.4   42384.2\n",
       "15  am_put_12800      36  438.5   EUR    15785.9      -18.8   81348.8\n",
       "16  am_put_12850      26  471.3   EUR    12252.9      -14.5   55255.0\n",
       "17  am_put_12900      14  506.1   EUR     7085.0       -8.2   29196.1\n",
       "18  am_put_12950      22  542.5   EUR    11934.7      -13.8   42602.5\n",
       "19  am_put_13000      18  579.4   EUR    10428.5      -11.7   34753.3"
      ]
     },
     "execution_count": 57,
     "metadata": {},
     "output_type": "execute_result"
    }
   ],
   "source": [
    "results.round(1)"
   ]
  },
  {
   "cell_type": "code",
   "execution_count": 58,
   "metadata": {
    "uuid": "8ceae186-64e2-405d-8563-b6349c0f13b2"
   },
   "outputs": [
    {
     "data": {
      "text/plain": [
       "pos_value     201016.3\n",
       "pos_delta       -220.4\n",
       "pos_vega     1317531.8\n",
       "dtype: float64"
      ]
     },
     "execution_count": 58,
     "metadata": {},
     "output_type": "execute_result"
    }
   ],
   "source": [
    "results[['pos_value','pos_delta','pos_vega']].sum().round(1)"
   ]
  },
  {
   "cell_type": "markdown",
   "metadata": {},
   "source": [
    "<img src=\"http://hilpisch.com/tpq_logo.png\" alt=\"The Python Quants\" width=\"35%\" align=\"right\" border=\"0\"><br>\n",
    "\n",
    "<a href=\"http://tpq.io\" target=\"_blank\">http://tpq.io</a> | <a href=\"http://twitter.com/dyjh\" target=\"_blank\">@dyjh</a> | <a href=\"mailto:training@tpq.io\">training@tpq.io</a>"
   ]
  }
 ],
 "metadata": {
  "anaconda-cloud": {},
  "kernelspec": {
   "display_name": "Python 3",
   "language": "python",
   "name": "python3"
  },
  "language_info": {
   "codemirror_mode": {
    "name": "ipython",
    "version": 3
   },
   "file_extension": ".py",
   "mimetype": "text/x-python",
   "name": "python",
   "nbconvert_exporter": "python",
   "pygments_lexer": "ipython3",
   "version": "3.7.6"
  }
 },
 "nbformat": 4,
 "nbformat_minor": 4
}
