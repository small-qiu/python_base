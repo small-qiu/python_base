{
 "cells": [
  {
   "cell_type": "markdown",
   "metadata": {},
   "source": [
    "### 网页解析\n",
    "#### 1. 正则表达式\n",
    "#### 2.xpath\n",
    "#### 3.Beautifulsoup\n",
    "#### 4.pyquery"
   ]
  },
  {
   "cell_type": "code",
   "execution_count": 1,
   "metadata": {},
   "outputs": [],
   "source": [
    "html = \n",
    "'''\n",
    "<div id=\"songs-list\">\n",
    "<h2 class=\"title\"> 经典老歌 </h2>\n",
    "<p class=\"introduction\">\n",
    "经典老歌列表\n",
    "</p>\n",
    "<ul id=\"list\" class=\"list-group\">\n",
    "<li data-view=\"2\"> 一路上有你 </li>\n",
    "<li data-view=\"7\">\n",
    "<a href=\"/2.mp3\" singer=\"任贤齐\"> 沧海一声笑 </a>\n",
    "</li>\n",
    "<li data-view=\"4\" class=\"active\">\n",
    "<a href=\"/3.mp3\" singer=\"齐秦\"> 往事随风 </a>\n",
    "</li>\n",
    "<li data-view=\"6\"><a href=\"/4.mp3\" singer=\"beyond\"> 光辉岁月 </a></li>\n",
    "<li data-view=\"5\"><a href=\"/5.mp3\" singer=\"陈慧琳\"> 记事本 </a></li>\n",
    "<li data-view=\"5\">\n",
    "<a href=\"/6.mp3\" singer=\"邓丽君\"> 但愿人长久 </a>\n",
    "</li>\n",
    "</ul>\n",
    "</div>\n",
    "'''"
   ]
  },
  {
   "cell_type": "markdown",
   "metadata": {},
   "source": [
    "### 1.正则表达式 -- re  靠的是表达式\n",
    "\n",
    "re.match() -- 从开始位置匹配“^Hello”,re.match(正则表达式,文本)，re.group()--返回内容，re.span()--返回范围\n",
    "\n",
    "re.S -- 匹配换行符\n",
    "\n",
    "re.search() -- 不从头开始，re.search(正则表达式,文本,re.S)\n",
    "\n",
    "re.findall() -- 返回所有\n",
    "\n",
    "re.sub() -- 代替，re.sub(查找内容，代替内容，文本)\n",
    "\n",
    "re.compile() -- 生成表达式对象"
   ]
  },
  {
   "cell_type": "code",
   "execution_count": null,
   "metadata": {},
   "outputs": [],
   "source": [
    "# 符号对应表\n",
    "# 库\n",
    "import re\n",
    "\n",
    "content = 'Hello 123 4567 World_This is a Regex Demo'\n",
    "print(len(content))"
   ]
  },
  {
   "cell_type": "markdown",
   "metadata": {},
   "source": [
    "re.match()  -- 不经常用,匹配第一个"
   ]
  },
  {
   "cell_type": "code",
   "execution_count": null,
   "metadata": {},
   "outputs": [],
   "source": [
    "pattern1 = re.compile('^Hello\\s(\\d+)\\s(\\d+)\\s\\w{10}')\n",
    "result1 = re.match(pattern1, content)  # 采用正则表达式对象便于修改代码\n",
    "print(result1)\n",
    "print(result1.group()) # == result.group(0)\n",
    "print(result1.group(1)) # 第一个括号返回的内容\n",
    "print(result1.span()) # 匹配的范围"
   ]
  },
  {
   "cell_type": "markdown",
   "metadata": {},
   "source": [
    "re.search() -- 匹配第一个"
   ]
  },
  {
   "cell_type": "code",
   "execution_count": 28,
   "metadata": {},
   "outputs": [
    {
     "name": "stdout",
     "output_type": "stream",
     "text": [
      " 123 \n",
      "(5, 10)\n"
     ]
    }
   ],
   "source": [
    "# content上匹配\n",
    "pattern2 =re.compile( '\\s(\\d+)\\s')\n",
    "result2 = re.search(pattern2,content)\n",
    "print(result2.group())\n",
    "print(result2.span())"
   ]
  },
  {
   "cell_type": "code",
   "execution_count": 41,
   "metadata": {},
   "outputs": [
    {
     "data": {
      "text/plain": [
       "('<li data-view=\"2\"> 一路上有你 </li>\\n<li data-view=\"7\">\\n<a href=\"/2.mp3\" singer=\"任贤齐\"> 沧海一声笑 </a>\\n</li>\\n<li data-view=\"4\" class=\"active\">\\n<a href=\"/3.mp3\" singer=\"齐秦\"> 往事随风 </a>',\n",
       " '齐秦',\n",
       " ' 往事随风 ')"
      ]
     },
     "execution_count": 41,
     "metadata": {},
     "output_type": "execute_result"
    }
   ],
   "source": [
    "# html上匹配\n",
    "pattern3 = re.compile('<li.*?active.*?singer=\"(.*?)\">(.*?)</a>',re.S)  # re.S在此处\n",
    "result3 = re.search(pattern3,html)\n",
    "result3.group(),result3.group(1),result3.group(2)"
   ]
  },
  {
   "cell_type": "markdown",
   "metadata": {},
   "source": [
    "re.findall()"
   ]
  },
  {
   "cell_type": "code",
   "execution_count": 42,
   "metadata": {},
   "outputs": [
    {
     "data": {
      "text/plain": [
       "[('任贤齐', ' 沧海一声笑 '),\n",
       " ('齐秦', ' 往事随风 '),\n",
       " ('beyond', ' 光辉岁月 '),\n",
       " ('陈慧琳', ' 记事本 '),\n",
       " ('邓丽君', ' 但愿人长久 ')]"
      ]
     },
     "execution_count": 42,
     "metadata": {},
     "output_type": "execute_result"
    }
   ],
   "source": [
    "#查找所有\n",
    "pattern4  = re.compile('<li.*?<a\\shref.*?singer=\"(.*?)\">(.*?)</a>',re.S)\n",
    "result4 = re.findall(pattern4,html)  # 返回结果列表\n",
    "result4"
   ]
  },
  {
   "cell_type": "markdown",
   "metadata": {},
   "source": [
    "re.sub()"
   ]
  },
  {
   "cell_type": "code",
   "execution_count": 49,
   "metadata": {},
   "outputs": [
    {
     "data": {
      "text/plain": [
       "[' 一路上有你 ', ' 沧海一声笑 ', ' 往事随风 ', ' 光辉岁月 ', ' 记事本 ', ' 但愿人长久 ']"
      ]
     },
     "execution_count": 49,
     "metadata": {},
     "output_type": "execute_result"
    }
   ],
   "source": [
    "# 提取所有歌名\n",
    "# 由于“一路上有你”标签和其他不一样，不含有歌名标签\n",
    "# 1.标准做法\n",
    "result5 = []\n",
    "result5.append(re.search('<li.*?>(.*?)</li>',html,re.S).group(1))\n",
    "pattern5  = re.compile('<li.*?<a\\shref.*?>(.*?)</a>',re.S)\n",
    "r = re.findall(pattern5,html)  # 返回结果列表\n",
    "result5.extend(r)  # 扩展\n",
    "result5"
   ]
  },
  {
   "cell_type": "code",
   "execution_count": 66,
   "metadata": {},
   "outputs": [
    {
     "data": {
      "text/plain": [
       "['一路上有你', '沧海一声笑', '往事随风', '光辉岁月', '记事本', '但愿人长久']"
      ]
     },
     "execution_count": 66,
     "metadata": {},
     "output_type": "execute_result"
    }
   ],
   "source": [
    "# 2.标准做法2\n",
    "results = re.findall('<li.*?>\\s*?(<a.*?>)?(\\w+)(</a>)?\\s.*?</li>', html, re.S) # (</a.*?)? 有和无\n",
    "[r[1] for r in results]"
   ]
  },
  {
   "cell_type": "code",
   "execution_count": 71,
   "metadata": {},
   "outputs": [
    {
     "data": {
      "text/plain": [
       "['一路上有你', '沧海一声笑', '往事随风', '光辉岁月', '记事本', '但愿人长久']"
      ]
     },
     "execution_count": 71,
     "metadata": {},
     "output_type": "execute_result"
    }
   ],
   "source": [
    "# 3.使用re.S\n",
    "html = re.sub('<a.*?>|</a>', '', html)  # 去掉a标签\n",
    "pattern6 = re.compile('<li.*?>(.*?)</li',re.S)\n",
    "result6 = re.findall(pattern6,html)\n",
    "[r.strip() for r in result6]"
   ]
  },
  {
   "cell_type": "markdown",
   "metadata": {},
   "source": [
    "### 2.xpath  靠的是//表示式"
   ]
  },
  {
   "cell_type": "markdown",
   "metadata": {},
   "source": [
    "nodename\t选取此节点的所有子节点\n",
    "\n",
    "/\t从当前节点选取直接子节点\n",
    "\n",
    "//\t从当前节点选取子孙节点\n",
    "\n",
    ".\t选取当前节点\n",
    "\n",
    "..\t选取当前节点的父节点\n",
    "\n",
    "@\t选取属性\n",
    "\n",
    "*  表示所有"
   ]
  },
  {
   "cell_type": "code",
   "execution_count": 105,
   "metadata": {},
   "outputs": [],
   "source": [
    "text = '''\n",
    "<div>\n",
    "    <ul>\n",
    "         <li class=\"item-0\"><a href=\"link1.html\">first item</a></li>\n",
    "         <li class=\"item-1\"><a href=\"link2.html\">second item</a></li>\n",
    "         <li class=\"item-inactive\"><a href=\"link3.html\">third item</a></li>\n",
    "         <li class=\"item-1\"><a href=\"link4.html\">fourth item</a></li>\n",
    "         <li class=\"item-0\"><a href=\"link5.html\">fifth item</a>\n",
    "     </ul>\n",
    " </div>\n",
    "'''"
   ]
  },
  {
   "cell_type": "code",
   "execution_count": 76,
   "metadata": {},
   "outputs": [
    {
     "name": "stdout",
     "output_type": "stream",
     "text": [
      "<html><body><div>\n",
      "    <ul>\n",
      "         <li class=\"item-0\"><a href=\"link1.html\">first item</a></li>\n",
      "         <li class=\"item-1\"><a href=\"link2.html\">second item</a></li>\n",
      "         <li class=\"item-inactive\"><a href=\"link3.html\">third item</a></li>\n",
      "         <li class=\"item-1\"><a href=\"link4.html\">fourth item</a></li>\n",
      "         <li class=\"item-0\"><a href=\"link5.html\">fifth item</a>\n",
      "     </li></ul>\n",
      " </div>\n",
      "</body></html>\n"
     ]
    }
   ],
   "source": [
    "from lxml import etree  # 引入库\n",
    "\n",
    "# 对象声明\n",
    "html = etree.HTML(text)  # 将html转成相应对象，补全，最后一个li含换行符文本\n",
    "\n",
    "# html = etree.parse('./test.html', etree.HTMLParser())  #test.html是文本时\n",
    "\n",
    "result = etree.tostring(html) # 输出查看\n",
    "print(result.decode('utf-8'))"
   ]
  },
  {
   "cell_type": "code",
   "execution_count": 98,
   "metadata": {},
   "outputs": [
    {
     "data": {
      "text/plain": [
       "(['\\n     '],\n",
       " ['first item', 'second item', 'third item', 'fourth item', 'fifth item'],\n",
       " ['third item'],\n",
       " ['link1.html', 'link2.html', 'link3.html', 'link4.html', 'link5.html'],\n",
       " ['item-0', 'item-1', 'item-inactive', 'item-1', 'item-0'])"
      ]
     },
     "execution_count": 98,
     "metadata": {},
     "output_type": "execute_result"
    }
   ],
   "source": [
    "# 开始解析\n",
    "# 返回所有文本的list\n",
    "result = html.xpath('//li/text()')  # 获取文本，不查看a标签内部文本\n",
    "result0 = html.xpath('//ul//a/text()') # 跨越节点\n",
    "result1 = html.xpath('//li/a[@href=\"link3.html\"]/text()')  #获取对应标签文本，相当于子结点，加括号//request.text不加括号\n",
    "result2 = html.xpath('//li/a/@href')  # 获取a 标签中属性，相当于子结点\n",
    "result3 = html.xpath('//li/a[@href]/../@class') # 获取父节点\n",
    "result,result0,result1,result2,result3"
   ]
  },
  {
   "cell_type": "code",
   "execution_count": 101,
   "metadata": {},
   "outputs": [
    {
     "data": {
      "text/plain": [
       "(['first item'], ['first item'])"
      ]
     },
     "execution_count": 101,
     "metadata": {},
     "output_type": "execute_result"
    }
   ],
   "source": [
    "# 匹配多属性文本\n",
    "text1 = '''  \n",
    "<li class=\"li li-first\"><a href=\"link.html\">first item</a></li>  \n",
    "'''  \n",
    "html = etree.HTML(text1)  \n",
    "result1 = html.xpath('//li[contains(@class, \"li\")]/a/text()') #contain包含(@属性，包含内容)\n",
    "result2 = html.xpath('//li[@class=\"li li-first\"]/a/text()')\n",
    "result1,result2"
   ]
  },
  {
   "cell_type": "code",
   "execution_count": 104,
   "metadata": {},
   "outputs": [
    {
     "data": {
      "text/plain": [
       "['first item']"
      ]
     },
     "execution_count": 104,
     "metadata": {},
     "output_type": "execute_result"
    }
   ],
   "source": [
    "# 多个属性匹配 加and\n",
    "text2 = '''  \n",
    "<li class=\"li li-first\" name=\"item\"><a href=\"link.html\">first item</a></li>\n",
    "'''  \n",
    "html = etree.HTML(text2)  \n",
    "result = html.xpath('//li[contains(@class, \"li\") and @name=\"item\"]/a/text()')  \n",
    "result"
   ]
  },
  {
   "cell_type": "code",
   "execution_count": 106,
   "metadata": {},
   "outputs": [
    {
     "name": "stdout",
     "output_type": "stream",
     "text": [
      "['first item']\n",
      "['fifth item']\n",
      "['first item', 'second item']\n",
      "['third item']\n"
     ]
    }
   ],
   "source": [
    "# 选择位置节点\n",
    "html = etree.HTML(text)\n",
    "result = html.xpath('//li[1]/a/text()')  # 第一个\n",
    "print(result)\n",
    "result = html.xpath('//li[last()]/a/text()') # 最后一个\n",
    "print(result)\n",
    "result = html.xpath('//li[position()<3]/a/text()') # 第一、二个\n",
    "print(result)\n",
    "result = html.xpath('//li[last()-2]/a/text()') # 倒数第二个\n",
    "print(result)"
   ]
  },
  {
   "cell_type": "code",
   "execution_count": 107,
   "metadata": {},
   "outputs": [
    {
     "data": {
      "text/plain": [
       "['first item', 'fifth item']"
      ]
     },
     "execution_count": 107,
     "metadata": {},
     "output_type": "execute_result"
    }
   ],
   "source": [
    "#同时选多个\n",
    "html = etree.HTML(text)\n",
    "result = html.xpath('//li[1]/a/text() | //li[last()]/a/text()')  # 第一个和最后一个\"|\"\n",
    "result"
   ]
  },
  {
   "cell_type": "markdown",
   "metadata": {},
   "source": [
    "### 3.beautifulsoup靠的是.方法\n",
    "\n",
    "1.推荐使用 LXML 解析库，必要时使用 html.parser。\n",
    "\n",
    "2.节点选择筛选功能弱但是速度快。只选第一个\n",
    "\n",
    "3.建议使用 find、find_all 方法查询匹配单个结果或者多个结果。\n",
    "\n",
    "4.如果对 CSS 选择器熟悉的话可以使用 select 选择法。\n",
    "\n",
    "5.三种选择器选后再调用方法获取信息"
   ]
  },
  {
   "cell_type": "code",
   "execution_count": 114,
   "metadata": {},
   "outputs": [],
   "source": [
    "html = \"\"\"\n",
    "<html><head><title>The Dormouse's story</title></head>\n",
    "<body>\n",
    "<p class=\"title\" name=\"dromouse\"><b>The Dormouse's story</b></p>\n",
    "<p class=\"story\">Once upon a time there were three little sisters; and their names were\n",
    "<a href=\"http://example.com/elsie\" class=\"sister\" id=\"link1\"><!-- Elsie --></a>,\n",
    "<a href=\"http://example.com/lacie\" class=\"sister\" id=\"link2\">Lacie</a> and\n",
    "<a href=\"http://example.com/tillie\" class=\"sister\" id=\"link3\">Tillie</a>;\n",
    "and they lived at the bottom of a well.</p>\n",
    "<p class=\"story\">...</p>\n",
    "\"\"\""
   ]
  },
  {
   "cell_type": "code",
   "execution_count": 121,
   "metadata": {
    "collapsed": true
   },
   "outputs": [
    {
     "name": "stdout",
     "output_type": "stream",
     "text": [
      "<html>\n",
      " <head>\n",
      "  <title>\n",
      "   The Dormouse's story\n",
      "  </title>\n",
      " </head>\n",
      " <body>\n",
      "  <p class=\"title\" name=\"dromouse\">\n",
      "   <b>\n",
      "    The Dormouse's story\n",
      "   </b>\n",
      "  </p>\n",
      "  <p class=\"story\">\n",
      "   Once upon a time there were three little sisters; and their names were\n",
      "   <a class=\"sister\" href=\"http://example.com/elsie\" id=\"link1\">\n",
      "    <!-- Elsie -->\n",
      "   </a>\n",
      "   ,\n",
      "   <a class=\"sister\" href=\"http://example.com/lacie\" id=\"link2\">\n",
      "    Lacie\n",
      "   </a>\n",
      "   and\n",
      "   <a class=\"sister\" href=\"http://example.com/tillie\" id=\"link3\">\n",
      "    Tillie\n",
      "   </a>\n",
      "   ;\n",
      "and they lived at the bottom of a well.\n",
      "  </p>\n",
      "  <p class=\"story\">\n",
      "   ...\n",
      "  </p>\n",
      " </body>\n",
      "</html>\n",
      "The Dormouse's story\n",
      "<title>The Dormouse's story</title>\n",
      "title\n",
      "{'class': ['title'], 'name': 'dromouse'}\n",
      "dromouse\n",
      "The Dormouse's story\n",
      "<title>The Dormouse's story</title>\n"
     ]
    }
   ],
   "source": [
    "from bs4 import BeautifulSoup\n",
    "\n",
    "\n",
    "soup = BeautifulSoup(html, 'lxml')  #生成bs对象，自动补全\n",
    "print(soup.prettify())  # 把要解析的字符串以标准的缩进格式  输出\n",
    "print(soup.title.string) # 获取文本\n",
    "print(soup.title)  # 获取标签\n",
    "print(soup.title.name) # 获取标签名字\n",
    "print(soup.p.attrs)  # 获取第一个p标签的所有属性字典\n",
    "print(soup.p.attrs['name']) # 获取字典中的一个，获取属性的值\n",
    "print(soup.p.string)  #第一个p标签的文本\n",
    "print(soup.html.head.title)  # 嵌套，获得title标签"
   ]
  },
  {
   "cell_type": "code",
   "execution_count": 123,
   "metadata": {
    "collapsed": true
   },
   "outputs": [
    {
     "name": "stdout",
     "output_type": "stream",
     "text": [
      "['\\n            Once upon a time there were three little sisters; and their names were\\n            ', <a class=\"sister\" href=\"http://example.com/elsie\" id=\"link1\">\n",
      "<span>Elsie</span>\n",
      "</a>, '\\n', <a class=\"sister\" href=\"http://example.com/lacie\" id=\"link2\">Lacie</a>, ' \\n            and\\n            ', <a class=\"sister\" href=\"http://example.com/tillie\" id=\"link3\">Tillie</a>, '\\n            and they lived at the bottom of a well.\\n        ']\n",
      "<list_iterator object at 0x0000000005B51DA0>\n",
      "0 \n",
      "            Once upon a time there were three little sisters; and their names were\n",
      "            \n",
      "1 <a class=\"sister\" href=\"http://example.com/elsie\" id=\"link1\">\n",
      "<span>Elsie</span>\n",
      "</a>\n",
      "2 \n",
      "\n",
      "3 <a class=\"sister\" href=\"http://example.com/lacie\" id=\"link2\">Lacie</a>\n",
      "4  \n",
      "            and\n",
      "            \n",
      "5 <a class=\"sister\" href=\"http://example.com/tillie\" id=\"link3\">Tillie</a>\n",
      "6 \n",
      "            and they lived at the bottom of a well.\n",
      "        \n"
     ]
    }
   ],
   "source": [
    "html = \"\"\"\n",
    "<html>\n",
    "    <head>\n",
    "        <title>The Dormouse's story</title>\n",
    "    </head>\n",
    "    <body>\n",
    "        <p class=\"story\">\n",
    "            Once upon a time there were three little sisters; and their names were\n",
    "            <a href=\"http://example.com/elsie\" class=\"sister\" id=\"link1\">\n",
    "                <span>Elsie</span>\n",
    "            </a>\n",
    "            <a href=\"http://example.com/lacie\" class=\"sister\" id=\"link2\">Lacie</a> \n",
    "            and\n",
    "            <a href=\"http://example.com/tillie\" class=\"sister\" id=\"link3\">Tillie</a>\n",
    "            and they lived at the bottom of a well.\n",
    "        </p>\n",
    "        <p class=\"story\">...</p>\n",
    "\"\"\"\n",
    "soup = BeautifulSoup(html, 'lxml')\n",
    "\n",
    "# 获取节点\n",
    "\n",
    "\n",
    "# 获取子节点——含孙节点\n",
    "# 1.contents 结果为列表\n",
    "\n",
    "print(soup.p.contents)\n",
    "\n",
    "# 2.children 返回迭代对象——含孙节点\n",
    "print(soup.p.children)\n",
    "for i, child in enumerate(soup.p.children):\n",
    "    print(i, child)\n",
    "    \n",
    "    \n",
    "# 3.descendants--所有子孙节点，孙节点单独裂开，为迭代对象\n",
    "print(soup.p.descendants)\n",
    "for i, child in enumerate(soup.p.descendants):\n",
    "    print(i, child)"
   ]
  },
  {
   "cell_type": "code",
   "execution_count": 126,
   "metadata": {
    "collapsed": true
   },
   "outputs": [
    {
     "name": "stdout",
     "output_type": "stream",
     "text": [
      "<p class=\"story\">\n",
      "            Once upon a time there were three little sisters; and their names were\n",
      "            <a class=\"sister\" href=\"http://example.com/elsie\" id=\"link1\">\n",
      "<span>Elsie</span>\n",
      "</a>\n",
      "<a class=\"sister\" href=\"http://example.com/lacie\" id=\"link2\">Lacie</a> \n",
      "            and\n",
      "            <a class=\"sister\" href=\"http://example.com/tillie\" id=\"link3\">Tillie</a>\n",
      "            and they lived at the bottom of a well.\n",
      "        </p>\n",
      "[(0, <p class=\"story\">\n",
      "            Once upon a time there were three little sisters; and their names were\n",
      "            <a class=\"sister\" href=\"http://example.com/elsie\" id=\"link1\">\n",
      "<span>Elsie</span>\n",
      "</a>\n",
      "<a class=\"sister\" href=\"http://example.com/lacie\" id=\"link2\">Lacie</a> \n",
      "            and\n",
      "            <a class=\"sister\" href=\"http://example.com/tillie\" id=\"link3\">Tillie</a>\n",
      "            and they lived at the bottom of a well.\n",
      "        </p>), (1, <body>\n",
      "<p class=\"story\">\n",
      "            Once upon a time there were three little sisters; and their names were\n",
      "            <a class=\"sister\" href=\"http://example.com/elsie\" id=\"link1\">\n",
      "<span>Elsie</span>\n",
      "</a>\n",
      "<a class=\"sister\" href=\"http://example.com/lacie\" id=\"link2\">Lacie</a> \n",
      "            and\n",
      "            <a class=\"sister\" href=\"http://example.com/tillie\" id=\"link3\">Tillie</a>\n",
      "            and they lived at the bottom of a well.\n",
      "        </p>\n",
      "<p class=\"story\">...</p>\n",
      "</body>), (2, <html>\n",
      "<head>\n",
      "<title>The Dormouse's story</title>\n",
      "</head>\n",
      "<body>\n",
      "<p class=\"story\">\n",
      "            Once upon a time there were three little sisters; and their names were\n",
      "            <a class=\"sister\" href=\"http://example.com/elsie\" id=\"link1\">\n",
      "<span>Elsie</span>\n",
      "</a>\n",
      "<a class=\"sister\" href=\"http://example.com/lacie\" id=\"link2\">Lacie</a> \n",
      "            and\n",
      "            <a class=\"sister\" href=\"http://example.com/tillie\" id=\"link3\">Tillie</a>\n",
      "            and they lived at the bottom of a well.\n",
      "        </p>\n",
      "<p class=\"story\">...</p>\n",
      "</body></html>), (3, <html>\n",
      "<head>\n",
      "<title>The Dormouse's story</title>\n",
      "</head>\n",
      "<body>\n",
      "<p class=\"story\">\n",
      "            Once upon a time there were three little sisters; and their names were\n",
      "            <a class=\"sister\" href=\"http://example.com/elsie\" id=\"link1\">\n",
      "<span>Elsie</span>\n",
      "</a>\n",
      "<a class=\"sister\" href=\"http://example.com/lacie\" id=\"link2\">Lacie</a> \n",
      "            and\n",
      "            <a class=\"sister\" href=\"http://example.com/tillie\" id=\"link3\">Tillie</a>\n",
      "            and they lived at the bottom of a well.\n",
      "        </p>\n",
      "<p class=\"story\">...</p>\n",
      "</body></html>)]\n"
     ]
    }
   ],
   "source": [
    "# 获取节点\n",
    "\n",
    "\n",
    "# 获取父节点\n",
    "print(soup.a.parent)\n",
    "print(list(enumerate(soup.a.parents)))  # parents是迭代对象--4层外层\n",
    "\n",
    "# 兄弟节点\n",
    "print('Next Sibling', soup.a.next_sibling)  # 下面一个节点\n",
    "print('Prev Sibling', soup.a.previous_sibling) # 上面一个节点\n",
    "print('Next Siblings', list(enumerate(soup.a.next_siblings))) # 下面所有节点\n",
    "print('Prev Siblings', list(enumerate(soup.a.previous_siblings)))  #上面所有节点"
   ]
  },
  {
   "cell_type": "markdown",
   "metadata": {},
   "source": [
    "#### beautifulsoup 采用方法选择器 有下划线\n",
    "\n",
    "find_all 和 find ：找一个节点和所有节点\n",
    "\n",
    "find_parents 和 find_parent：前者返回所有祖先节点，后者返回直接父节点。\n",
    "\n",
    "find_next_siblings 和 find_next_sibling：前者返回后面所有的兄弟节点，后者返回后面第一个兄弟节点。\n",
    "\n",
    "find_previous_siblings 和 find_previous_sibling：前者返回前面所有的兄弟节点，后者返回前面第一个兄弟节点。\n",
    "\n",
    "find_all_next 和 find_next：前者返回节点后所有符合条件的节点，后者返回第一个符合条件的节点。\n",
    "\n",
    "find_all_previous 和 find_previous：前者返回节点前所有符合条件的节点，后者返回第一个符合条件的节点。"
   ]
  },
  {
   "cell_type": "markdown",
   "metadata": {},
   "source": [
    "#### find_all(name , attrs , recursive , text , **kwargs)  # name节点名字，attrs属性名，text对文本进行选取"
   ]
  },
  {
   "cell_type": "code",
   "execution_count": 144,
   "metadata": {},
   "outputs": [
    {
     "name": "stdout",
     "output_type": "stream",
     "text": [
      "[<ul class=\"list\" id=\"list-1\" name=\"elements\">\n",
      "<li class=\"element\">Foo</li>\n",
      "<li class=\"element\">Bar</li>\n",
      "<li class=\"element\">Jay</li>\n",
      "</ul>, <ul class=\"list list-small\" id=\"list-2\">\n",
      "<li class=\"element\">Foo</li>\n",
      "<li class=\"element\">Bar</li>\n",
      "</ul>]\n",
      "<ul class=\"list\" id=\"list-1\" name=\"elements\">\n",
      "<li class=\"element\">Foo</li>\n",
      "<li class=\"element\">Bar</li>\n",
      "<li class=\"element\">Jay</li>\n",
      "</ul>\n"
     ]
    }
   ],
   "source": [
    "html='''\n",
    "<div class=\"panel\">\n",
    "    <div class=\"panel-heading\">\n",
    "        <h4>Hello</h4>\n",
    "    </div>\n",
    "    <div class=\"panel-body\">\n",
    "        <ul class=\"list\" id=\"list-1\" name= 'elements'>\n",
    "            <li class=\"element\">Foo</li>\n",
    "            <li class=\"element\">Bar</li>\n",
    "            <li class=\"element\">Jay</li>\n",
    "        </ul>\n",
    "        <ul class=\"list list-small\" id=\"list-2\">\n",
    "            <li class=\"element\">Foo</li>\n",
    "            <li class=\"element\">Bar</li>\n",
    "        </ul>\n",
    "    </div>\n",
    "</div>\n",
    "'''\n",
    "from bs4 import BeautifulSoup\n",
    "soup = BeautifulSoup(html, 'lxml')\n",
    "print(soup.find_all(name='ul'))\n",
    "\n",
    "print(soup.find_all(name='ul')[0])  #soup.find(name='ul')"
   ]
  },
  {
   "cell_type": "code",
   "execution_count": 146,
   "metadata": {},
   "outputs": [
    {
     "name": "stdout",
     "output_type": "stream",
     "text": [
      "[<li class=\"element\">Foo</li>, <li class=\"element\">Bar</li>, <li class=\"element\">Jay</li>]\n",
      "Foo\n",
      "Bar\n",
      "Jay\n",
      "[<li class=\"element\">Foo</li>, <li class=\"element\">Bar</li>]\n",
      "Foo\n",
      "Bar\n",
      "['element']\n"
     ]
    }
   ],
   "source": [
    "# 层层嵌套选\n",
    "# 同前面.string选取文本\\获取属性\n",
    "for ul in soup.find_all(name='ul'):\n",
    "    print(ul.find_all(name='li'))\n",
    "    for li in ul.find_all(name='li'):\n",
    "        print(li.string)   \n",
    "print(li['class'])"
   ]
  },
  {
   "cell_type": "code",
   "execution_count": 138,
   "metadata": {},
   "outputs": [
    {
     "name": "stdout",
     "output_type": "stream",
     "text": [
      "[<ul class=\"list\" id=\"list-1\" name=\"elements\">\n",
      "<li class=\"element\">Foo</li>\n",
      "<li class=\"element\">Bar</li>\n",
      "<li class=\"element\">Jay</li>\n",
      "</ul>]\n",
      "[<ul class=\"list\" id=\"list-1\" name=\"elements\">\n",
      "<li class=\"element\">Foo</li>\n",
      "<li class=\"element\">Bar</li>\n",
      "<li class=\"element\">Jay</li>\n",
      "</ul>]\n",
      "[<ul class=\"list\" id=\"list-1\" name=\"elements\">\n",
      "<li class=\"element\">Foo</li>\n",
      "<li class=\"element\">Bar</li>\n",
      "<li class=\"element\">Jay</li>\n",
      "</ul>]\n",
      "[<li class=\"element\">Foo</li>, <li class=\"element\">Bar</li>, <li class=\"element\">Jay</li>, <li class=\"element\">Foo</li>, <li class=\"element\">Bar</li>]\n",
      "['Hello']\n"
     ]
    }
   ],
   "source": [
    "print(soup.find_all(attrs={'id': 'list-1'}))\n",
    "print(soup.find_all(attrs={'name': 'elements'}))\n",
    "\n",
    "# 效果同上\n",
    "print(soup.find_all(id='list-1'))\n",
    "print(soup.find_all(class_='element'))\n",
    "\n",
    "# 筛选文本\n",
    "print(soup.find_all(text=re.compile('He')))"
   ]
  },
  {
   "cell_type": "markdown",
   "metadata": {},
   "source": [
    "#### beautifulsoup 采用CSS选择器\n",
    "直接调用soup.select()"
   ]
  },
  {
   "cell_type": "code",
   "execution_count": 139,
   "metadata": {},
   "outputs": [],
   "source": [
    "html='''\n",
    "<div class=\"panel\">\n",
    "    <div class=\"panel-heading\">\n",
    "        <h4>Hello</h4>\n",
    "    </div>\n",
    "    <div class=\"panel-body\">\n",
    "        <ul class=\"list\" id=\"list-1\">\n",
    "            <li class=\"element\">Foo</li>\n",
    "            <li class=\"element\">Bar</li>\n",
    "            <li class=\"element\">Jay</li>\n",
    "        </ul>\n",
    "        <ul class=\"list list-small\" id=\"list-2\">\n",
    "            <li class=\"element\">Foo</li>\n",
    "            <li class=\"element\">Bar</li>\n",
    "        </ul>\n",
    "    </div>\n",
    "</div>\n",
    "'''\n",
    "from bs4 import BeautifulSoup\n",
    "soup = BeautifulSoup(html, 'lxml')"
   ]
  },
  {
   "cell_type": "code",
   "execution_count": 143,
   "metadata": {},
   "outputs": [
    {
     "name": "stdout",
     "output_type": "stream",
     "text": [
      "[<div class=\"panel-heading\">\n",
      "<h4>Hello</h4>\n",
      "</div>]\n",
      "[<li class=\"element\">Foo</li>, <li class=\"element\">Bar</li>, <li class=\"element\">Jay</li>, <li class=\"element\">Foo</li>, <li class=\"element\">Bar</li>]\n",
      "[<li class=\"element\">Foo</li>, <li class=\"element\">Bar</li>]\n",
      "<class 'bs4.element.Tag'>\n",
      "[<li class=\"element\">Foo</li>, <li class=\"element\">Bar</li>, <li class=\"element\">Jay</li>]\n",
      "[<li class=\"element\">Foo</li>, <li class=\"element\">Bar</li>]\n",
      "list-1\n",
      "list-1\n",
      "list-2\n",
      "list-2\n",
      "Get Text: Foo\n",
      "String: Foo\n",
      "Get Text: Bar\n",
      "String: Bar\n",
      "Get Text: Jay\n",
      "String: Jay\n",
      "Get Text: Foo\n",
      "String: Foo\n",
      "Get Text: Bar\n",
      "String: Bar\n"
     ]
    }
   ],
   "source": [
    "print(soup.select('.panel .panel-heading'))  # 空格隔开.class,#id\n",
    "print(soup.select('ul li')) # 单个列表，返回所有\n",
    "print(soup.select('#list-2 .element'))\n",
    "print(type(soup.select('ul')[0]))  # 打印类型\n",
    "\n",
    "for ul in soup.select('ul'):\n",
    "    print(ul.select('li'))\n",
    "\n",
    "#返回属性\n",
    "for ul in soup.select('ul'):\n",
    "    print(ul['id']) \n",
    "    print(ul.attrs['id'])  # 同上\n",
    "    \n",
    "# 获取文办\n",
    "for li in soup.select('li'):\n",
    "    print('Get Text:', li.get_text())\n",
    "    print('String:', li.string)  # 同上，记.string即可"
   ]
  },
  {
   "cell_type": "markdown",
   "metadata": {},
   "source": [
    "### 4.pyquery\n",
    "\n"
   ]
  },
  {
   "cell_type": "code",
   "execution_count": 160,
   "metadata": {},
   "outputs": [],
   "source": [
    "html = '''\n",
    "<div id='container'>\n",
    "    <ul class='list'>\n",
    "         <li class=\"item-0\">first item</li>\n",
    "         <li class=\"item-1\"><a href=\"link2.html\">second item</a></li>\n",
    "         <li class=\"item-0 active\"><a href=\"link3.html\"><span class=\"bold\">third item</span></a></li>\n",
    "         <li class=\"item-1 active\"><a href=\"link4.html\">fourth item</a></li>\n",
    "         <li class=\"item-0\"><a href=\"link5.html\">fifth item</a></li>\n",
    "     </ul>\n",
    " </div>\n",
    "'''\n",
    "from pyquery import PyQuery as pq\n",
    "\n",
    "#初始化\n",
    "doc = pq(html)  # 初始化\n",
    "# doc = pq(url='http://cuiqingcai.com')  #网页初始化\n",
    "# doc = pq(requests.get('http://cuiqingcai.com').text) #功能同上\n",
    "# doc = pq(filename='demo.html')  # 文本初始化"
   ]
  },
  {
   "cell_type": "code",
   "execution_count": 162,
   "metadata": {},
   "outputs": [
    {
     "name": "stdout",
     "output_type": "stream",
     "text": [
      "<li class=\"item-0\">first item</li>\n",
      "         <li class=\"item-1\"><a href=\"link2.html\">second item</a></li>\n",
      "         <li class=\"item-0 active\"><a href=\"link3.html\"><span class=\"bold\">third item</span></a></li>\n",
      "         <li class=\"item-1 active\"><a href=\"link4.html\">fourth item</a></li>\n",
      "         <li class=\"item-0\"><a href=\"link5.html\">fifth item</a></li>\n",
      "     \n",
      "<li class=\"item-0\">first item</li>\n",
      "         <li class=\"item-0 active\"><a href=\"link3.html\"><span class=\"bold\">third item</span></a></li>\n",
      "         <li class=\"item-0\"><a href=\"link5.html\">fifth item</a></li>\n",
      "     \n",
      "<Element li at 0x4240708>\n"
     ]
    }
   ],
   "source": [
    "print(doc('li'))\n",
    "print(doc('#container .list .item-0'))\n",
    "print(doc('#container .list .item-0')[0])  # 对象类型是pyQuery,不能直接调用"
   ]
  },
  {
   "cell_type": "markdown",
   "metadata": {},
   "source": [
    "#### 查找节点"
   ]
  },
  {
   "cell_type": "code",
   "execution_count": 159,
   "metadata": {},
   "outputs": [
    {
     "name": "stdout",
     "output_type": "stream",
     "text": [
      "<ul class=\"list\">\n",
      "         <li class=\"item-0\">first item</li>\n",
      "         <li class=\"item-1\"><a href=\"link2.html\">second item</a></li>\n",
      "         <li class=\"item-0 active\"><a href=\"link3.html\"><span class=\"bold\">third item</span></a></li>\n",
      "         <li class=\"item-1 active\"><a href=\"link4.html\">fourth item</a></li>\n",
      "         <li class=\"item-0\"><a href=\"link5.html\">fifth item</a></li>\n",
      "     </ul>\n",
      " \n",
      "<li class=\"item-0\">first item</li>\n",
      "         <li class=\"item-1\"><a href=\"link2.html\">second item</a></li>\n",
      "         <li class=\"item-0 active\"><a href=\"link3.html\"><span class=\"bold\">third item</span></a></li>\n",
      "         <li class=\"item-1 active\"><a href=\"link4.html\">fourth item</a></li>\n",
      "         <li class=\"item-0\"><a href=\"link5.html\">fifth item</a></li>\n",
      "      <li class=\"item-0 active\"><a href=\"link3.html\"><span class=\"bold\">third item</span></a></li>\n",
      "         <li class=\"item-1 active\"><a href=\"link4.html\">fourth item</a></li>\n",
      "         \n"
     ]
    }
   ],
   "source": [
    "# 查找子节点\n",
    "items = doc('.list')\n",
    "print(items)\n",
    "lis = items.find('li')  # 在一步的基础上进行find,查找范围是节点的所有子孙节点\n",
    "lis1 = items.children('.active') # 只查找子节点\n",
    "\n",
    "lis2 = items.parent() # 直接父节点\n",
    "lis3 = items.parents()  # 祖先节点\n",
    "\n",
    "print(lis,lis1)\n",
    "\n",
    "li = doc('.list .item-0.active')\n",
    "print(li.siblings('.active'))  # 兄弟节点"
   ]
  },
  {
   "cell_type": "markdown",
   "metadata": {},
   "source": [
    "#### 获取节点"
   ]
  },
  {
   "cell_type": "code",
   "execution_count": 163,
   "metadata": {},
   "outputs": [
    {
     "name": "stdout",
     "output_type": "stream",
     "text": [
      "<li class=\"item-0 active\"><a href=\"link3.html\"><span class=\"bold\">third item</span></a></li>\n",
      "         \n",
      "<li class=\"item-0 active\"><a href=\"link3.html\"><span class=\"bold\">third item</span></a></li>\n",
      "         \n"
     ]
    }
   ],
   "source": [
    "# pyquery 的选择结果可能是多个节点，也可能是单个节点，类型都是 PyQuery 类型，并没有返回像 Beautiful Soup 那样的列表。\n",
    "# 对于单个节点来说，可以直接打\n",
    "li = doc('.item-0.active')\n",
    "print(li)\n",
    "print(str(li))"
   ]
  },
  {
   "cell_type": "code",
   "execution_count": 164,
   "metadata": {},
   "outputs": [
    {
     "name": "stdout",
     "output_type": "stream",
     "text": [
      "<class 'generator'>\n",
      "<li class=\"item-0\">first item</li>\n",
      "          <class 'pyquery.pyquery.PyQuery'>\n",
      "<li class=\"item-1\"><a href=\"link2.html\">second item</a></li>\n",
      "          <class 'pyquery.pyquery.PyQuery'>\n",
      "<li class=\"item-0 active\"><a href=\"link3.html\"><span class=\"bold\">third item</span></a></li>\n",
      "          <class 'pyquery.pyquery.PyQuery'>\n",
      "<li class=\"item-1 active\"><a href=\"link4.html\">fourth item</a></li>\n",
      "          <class 'pyquery.pyquery.PyQuery'>\n",
      "<li class=\"item-0\"><a href=\"link5.html\">fifth item</a></li>\n",
      "      <class 'pyquery.pyquery.PyQuery'>\n"
     ]
    }
   ],
   "source": [
    "# 多节点\n",
    "lis = doc('li').items() #迭代器\n",
    "for li in lis:\n",
    "    print(li, type(li))  # 每一个都是pyQuery类型"
   ]
  },
  {
   "cell_type": "markdown",
   "metadata": {},
   "source": [
    "#### 获取属性文本"
   ]
  },
  {
   "cell_type": "code",
   "execution_count": 173,
   "metadata": {},
   "outputs": [
    {
     "name": "stdout",
     "output_type": "stream",
     "text": [
      "<a href=\"link2.html\">second item</a><a href=\"link3.html\"><span class=\"bold\">third item</span></a><a href=\"link4.html\">fourth item</a><a href=\"link5.html\">fifth item</a> <class 'pyquery.pyquery.PyQuery'>\n",
      "link2.html\n",
      "link2.html\n",
      "link2.html\n",
      "second item\n",
      "link3.html\n",
      "third item\n",
      "link4.html\n",
      "fourth item\n",
      "link5.html\n",
      "fifth item\n",
      "second item third item fourth item fifth item\n"
     ]
    }
   ],
   "source": [
    "# 和其他相比没有加s，直接是attr，当时该方法只返回第一个\n",
    "a = doc('a')\n",
    "print(a, type(a))\n",
    "print(a.attr('href'))\n",
    "print(a.attr.href)\n",
    "\n",
    "# 迭代返回多个\n",
    "for item in a.items():\n",
    "    print(item.attr('href'))\n",
    "    print(item.text())\n",
    "    \n",
    "# 文本，所有\n",
    "print(a.text())  # .html可以获得内部标签,但是多个只能返回一个"
   ]
  },
  {
   "cell_type": "markdown",
   "metadata": {},
   "source": [
    "#### 修改class"
   ]
  },
  {
   "cell_type": "code",
   "execution_count": 170,
   "metadata": {},
   "outputs": [
    {
     "name": "stdout",
     "output_type": "stream",
     "text": [
      "<li class=\"item-0 active\"><a href=\"link3.html\"><span class=\"bold\">third item</span></a></li>\n",
      "             \n",
      "<li class=\"item-0\"><a href=\"link3.html\"><span class=\"bold\">third item</span></a></li>\n",
      "             \n",
      "<li class=\"item-0 active\"><a href=\"link3.html\"><span class=\"bold\">third item</span></a></li>\n",
      "             \n"
     ]
    }
   ],
   "source": [
    "html = '''\n",
    "<div class=\"wrap\">\n",
    "    <div id=\"container\">\n",
    "        <ul class=\"list\">\n",
    "             <li class=\"item-0\">first item</li>\n",
    "             <li class=\"item-1\"><a href=\"link2.html\">second item</a></li>\n",
    "             <li class=\"item-0 active\"><a href=\"link3.html\"><span class=\"bold\">third item</span></a></li>\n",
    "             <li class=\"item-1 active\"><a href=\"link4.html\">fourth item</a></li>\n",
    "             <li class=\"item-0\"><a href=\"link5.html\">fifth item</a></li>\n",
    "         </ul>\n",
    "     </div>\n",
    " </div>\n",
    "'''\n",
    "from pyquery import PyQuery as pq\n",
    "doc = pq(html)\n",
    "li = doc('.item-0.active')\n",
    "print(li)\n",
    "li.removeClass('active')  # 使统一\n",
    "print(li)\n",
    "li.addClass('active')\n",
    "print(li)"
   ]
  },
  {
   "cell_type": "code",
   "execution_count": 171,
   "metadata": {},
   "outputs": [
    {
     "name": "stdout",
     "output_type": "stream",
     "text": [
      "<a href=\"link3.html\"><span class=\"bold\">third item</span></a><a href=\"link5.html\">fifth item</a>\n"
     ]
    }
   ],
   "source": [
    "doc = pq(html)\n",
    "li = doc('.item-0')\n",
    "a = li.find('a')  # 查找只有a标签\n",
    "print(a)"
   ]
  },
  {
   "cell_type": "markdown",
   "metadata": {},
   "source": [
    "### 总结"
   ]
  },
  {
   "cell_type": "markdown",
   "metadata": {},
   "source": [
    "##### 都是找节点，获取信息\n",
    "\n",
    "1.xpath、BeautifulSoup、pyquery均需申明对象 str\\.html文件\\网站，BeautifulSoup只能是str\n",
    "\n",
    "2.文本 xpath->/text(),BeautifulSoup->.string,pyquery->.text()\n",
    "\n",
    "3.获取属性  xpath->/@属性名,BeautifulSoup->.attrs返回字典/.attrs[''],pyquery->.attr()\n",
    "\n",
    "4.BeautifulSoup 有三种节点选择器，后面均采用相同的方法获取信息\n",
    "\n",
    "5.pyquery 获取的为pyquery对象，属性多行内容时需要迭代生成，否则只返回第一个"
   ]
  }
 ],
 "metadata": {
  "kernelspec": {
   "display_name": "Python 3",
   "language": "python",
   "name": "python3"
  },
  "language_info": {
   "codemirror_mode": {
    "name": "ipython",
    "version": 3
   },
   "file_extension": ".py",
   "mimetype": "text/x-python",
   "name": "python",
   "nbconvert_exporter": "python",
   "pygments_lexer": "ipython3",
   "version": "3.7.0"
  }
 },
 "nbformat": 4,
 "nbformat_minor": 2
}
