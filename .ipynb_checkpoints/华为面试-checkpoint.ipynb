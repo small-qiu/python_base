{
 "cells": [
  {
   "cell_type": "markdown",
   "metadata": {},
   "source": [
    "## 华为应聘过程"
   ]
  },
  {
   "cell_type": "markdown",
   "metadata": {},
   "source": [
    "一.笔试<br>\n",
    "题目一:两个IP是否同一子网络 from 牛客网华为机试<br>\n",
    "题目二:最大正方形 from leetcoda"
   ]
  },
  {
   "cell_type": "code",
   "execution_count": 7,
   "metadata": {},
   "outputs": [
    {
     "name": "stdout",
     "output_type": "stream",
     "text": [
      "255.255.255.0\n",
      "192.168.224.256\n",
      "192.168.10.4\n",
      "1 192.168.224.0\n"
     ]
    }
   ],
   "source": [
    "###################    1\n",
    "\n",
    "# 两个IP是否同一子网络 \n",
    "# 思路: 切割字符串,&操做\n",
    "mask = input().split('.') # 子网\n",
    "subnet1 = input().split('.') # IP1\n",
    "subnet2 =input().split('.') # Ip2\n",
    "if len(mask)!= 4 or len(subnet1) != 4 or len(subnet2) != 4:\n",
    "    print(1)\n",
    "list1 = []\n",
    "list2 = []\n",
    "\n",
    "for i in range(0, len(mask)):\n",
    "    sub1 = list1.append(str(int(mask[i]) & int(subnet1[i])))\n",
    "    sub2 = list2.append(str(int(mask[i]) & int(subnet2[i])))\n",
    "    if sub1 != sub2:\n",
    "        # 减少循环\n",
    "        print(1)\n",
    "        break\n",
    "        \n",
    "if list1 == list2:\n",
    "    print(0,end=' ')\n",
    "    print('.'.join(list1))\n",
    "else:\n",
    "    print(1,end=' ')\n",
    "    print('.'.join(list1))"
   ]
  },
  {
   "cell_type": "code",
   "execution_count": 9,
   "metadata": {},
   "outputs": [],
   "source": [
    "###################    2\n",
    "\n",
    "# 动态规划\n",
    "# 最大正方形\n",
    "class Solution:\n",
    "    def maximalSquare(self, matrix) -> int:\n",
    "        if not matrix: return 0\n",
    "        # 创建一个dp table\n",
    "        row = len(matrix)\n",
    "        col = len(matrix[0])\n",
    "        dp = [[0] * (col + 1) for _ in range(row + 1)]\n",
    "        res = 0 # 计算面积\n",
    "        for i in range(1, row +1):\n",
    "            for j in range(1, col + 1):\n",
    "                if matrix[i - 1][j - 1] == \"1\":\n",
    "                    # 最大正方形的边长\n",
    "                    dp[i][j] = min(dp[i-1][j - 1], dp[i - 1][j], dp[i][j - 1]) + 1\n",
    "                    res = max(res, dp[i][j] ** 2)  # 更新最大面积\n",
    "        return res"
   ]
  },
  {
   "cell_type": "markdown",
   "metadata": {},
   "source": [
    "二.技术面一"
   ]
  },
  {
   "cell_type": "markdown",
   "metadata": {},
   "source": [
    "上来就是手撕代码"
   ]
  },
  {
   "cell_type": "code",
   "execution_count": 10,
   "metadata": {},
   "outputs": [
    {
     "data": {
      "text/plain": [
       "'b-cE--a'"
      ]
     },
     "execution_count": 10,
     "metadata": {},
     "output_type": "execute_result"
    }
   ],
   "source": [
    "# a-Ec--b -->  b-cE--a 字母不变,其他逆序, 难度:简单\n",
    "def change(string):\n",
    "    res = list(string)\n",
    "    list1 =  list(filter(str.isalpha, string)) # 过滤非字母\n",
    "    for i in range(len(res)):\n",
    "        if res[i].isalpha():\n",
    "            res[i] = list1[-1]\n",
    "            list1.pop()       \n",
    "        else:\n",
    "             continue\n",
    "    return ''.join(res)\n",
    "\n",
    "change('a-Ec--b')\n",
    "\n",
    "# 没那么复杂,A-Z,a-z,65-90,96-122,如果要查找的话\n",
    "# 生成2个list的时候记得copy.copy()"
   ]
  },
  {
   "cell_type": "markdown",
   "metadata": {},
   "source": [
    "1.首先自我介绍,成绩,奖项,项目,没说实习,因为我成绩专业5%,介绍完他直接说我成绩\\课程\\国奖\\然后说这块没问题<br>\n",
    "2.问项目(必须说得出来,清晰\\职务)<br>\n",
    "3.问比赛(数学建模必须搞个演讲模板\\模型\\流程\\职务)<br>\n",
    "4.问软件工程流程(需求\\开发\\调试)\n",
    "5.问面向对象概念\n",
    "6.问一个需求到项目落地的过程,和大佬分享一致"
   ]
  },
  {
   "cell_type": "markdown",
   "metadata": {},
   "source": [
    "二.技术面二"
   ]
  },
  {
   "cell_type": "markdown",
   "metadata": {},
   "source": [
    "手撕代码(二面是留到最后),随机选,开始视频时显示的是\"一个数转7进制\",但是由于我投简历后有简历补充,他要求共享屏幕给他看,然后题目给我看到了,他说换题哈哈<br>\n",
    "总的来看,题都不难,都是用字符串对照\\&操做\\排序<br>\n",
    "我还以为有动态规划?一点味都没有"
   ]
  },
  {
   "cell_type": "code",
   "execution_count": 16,
   "metadata": {},
   "outputs": [
    {
     "data": {
      "text/plain": [
       "5"
      ]
     },
     "execution_count": 16,
     "metadata": {},
     "output_type": "execute_result"
    }
   ],
   "source": [
    "# words中词的字母是否在char中且次数小于等于char中的相同字母,是的话计算累计长度\n",
    "words = ['cat','hat','ta']\n",
    "char = 'tca'\n",
    "# 定义一个字典\n",
    "\n",
    "def charsdic(char):\n",
    "    dict1 ={}\n",
    "    for i in set(list(char)):\n",
    "         dict1[i] = list(char).count(i)\n",
    "    return dict1\n",
    "\n",
    "result = 0\n",
    "res = []\n",
    "\n",
    "dictchar = charsdic(char)\n",
    "\n",
    "for word in words:\n",
    "    worddict = charsdic(word)\n",
    "    res.append(worddict)\n",
    "flag = []\n",
    "for i in range(len(words)):\n",
    "    # 取一个\n",
    "    for j in range(len(words[i])):\n",
    "        if words[i][j] in dictchar:\n",
    "                if res[i][words[i][j]] <= dictchar[words[i][j]]:\n",
    "                        continue\n",
    "                else: \n",
    "                        flag.append(words[i])\n",
    "                        break\n",
    "        else:\n",
    "                       flag.append(words[i])\n",
    "                       break\n",
    "for i in words:\n",
    "    if i  not in flag:\n",
    "        result += len(i)\n",
    "result        "
   ]
  },
  {
   "cell_type": "markdown",
   "metadata": {},
   "source": [
    "一面表现好30分钟全程无坎，二面一个面试官上来就说他赶时间,不用自我介绍,还没看过我简历要我发邮件给他？后面我说了一堆机器学习算法，他没听懂？问我怎么处理异常值我列了三个/box/DBSCAN/低维可视化/随机森林，他也没听过，然后拿个笔记要我在word写DBSCAN这个名字,我说的方法，然后就是问项目和比赛<br>\n",
    "我说国赛的防护服实际,可视化温度,然后打开IDE给他展示了自己保存好看的50图效果和代码,给他解释了一下...他似懂非懂?<br>\n",
    "项目是Tensorflow框架下的CNN,他不懂卷积,任我说,他就为输入的图片格式,项目还有难点,我就说调参,框架搭建,灰度处理,他一直是听的状态,但是他老师听不懂?编程过程还有提问<br>\n",
    "最后让我编个题目我编了半小时，思路对他说他看不懂我一层套一层的循环,2个break看不到,还有点急!因为他还边忙自己的事，我在和给小学生讲代码一样给他讲，最后还算懂，有bug 慢慢调，最后也按他要求(加flag标记没有入选的word)走，最后通过编程测试，面试官一边忙自己的事，我好了他还说等他一会?然后编程截图就结束.我当时感觉就是凉凉,这么简单的题给他讲和debug,按他说的改来改去(一开始我没有flag,直接result+=len(word),他说看不到,天哪,要是以后是我领导我怎么沟通?<br>\n",
    "庆幸过了,希望还有后续"
   ]
  },
  {
   "cell_type": "code",
   "execution_count": null,
   "metadata": {},
   "outputs": [],
   "source": []
  }
 ],
 "metadata": {
  "kernelspec": {
   "display_name": "Python 3",
   "language": "python",
   "name": "python3"
  },
  "language_info": {
   "codemirror_mode": {
    "name": "ipython",
    "version": 3
   },
   "file_extension": ".py",
   "mimetype": "text/x-python",
   "name": "python",
   "nbconvert_exporter": "python",
   "pygments_lexer": "ipython3",
   "version": "3.7.0"
  }
 },
 "nbformat": 4,
 "nbformat_minor": 2
}
