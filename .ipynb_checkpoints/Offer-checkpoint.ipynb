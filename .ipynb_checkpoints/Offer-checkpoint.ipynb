{
 "cells": [
  {
   "cell_type": "markdown",
   "metadata": {},
   "source": [
    "### 汽水题"
   ]
  },
  {
   "cell_type": "code",
   "execution_count": 1,
   "metadata": {},
   "outputs": [
    {
     "name": "stdout",
     "output_type": "stream",
     "text": [
      "1\n"
     ]
    }
   ],
   "source": [
    "lines=[]\n",
    "while True:\n",
    "    try:\n",
    "        lines.append(input())\n",
    "    except:\n",
    "        break\n",
    "        \n",
    "def change(k1):\n",
    "    drinks = int(k1//3)\n",
    "    y = k1%3\n",
    "    if k1 == 2:\n",
    "        drinks = 1\n",
    "        y = 0\n",
    "    return drinks,y\n",
    "\n",
    "def drinks(k):\n",
    "    drinks = 0\n",
    "    while k != 0:\n",
    "        if k ==1:\n",
    "            break\n",
    "        else:\n",
    "            drink,y = change(k)\n",
    "            k = drink+y\n",
    "            drinks += drink \n",
    "    print(drinks)\n",
    "for i in lines:\n",
    "    drinks(int(i))"
   ]
  },
  {
   "cell_type": "markdown",
   "metadata": {},
   "source": [
    "### 归并排序+逆序数"
   ]
  },
  {
   "cell_type": "code",
   "execution_count": 27,
   "metadata": {},
   "outputs": [
    {
     "name": "stdout",
     "output_type": "stream",
     "text": [
      "[0, 1, 2, 3, 4, 5, 6, 7]\n"
     ]
    }
   ],
   "source": [
    "sum = 0\n",
    "def MergeSort(arrayList):\n",
    "    arrayLen = len(arrayList)\n",
    "    #判断输入参数的正确性,如果长度小于1，就说明为1\n",
    "    if arrayLen <= 1:\n",
    "        return arrayList\n",
    "    midIndex = arrayLen//2\n",
    "    #左边的部分去做 MergeSort\n",
    "    leftArray = MergeSort(arrayList[:midIndex])\n",
    "    #右边的去做 MergeSort\n",
    "    rightArray = MergeSort(arrayList[midIndex:])\n",
    "    #将左右两边合并，称为一个新的数组，并已经排序成功\n",
    "    retArray = MergeCore(leftArray,rightArray)\n",
    "    return retArray\n",
    "\n",
    "def MergeCore(leftArray,rightArray):\n",
    "    global sum\n",
    "    #首先需要定义两个指针,这两个指针，分别指向这两个数组的第一个元素\n",
    "    leftIndex = 0\n",
    "    rightIndex = 0\n",
    "    #获取两个数组的长度，用于指出上面两个指针的边界是什么\n",
    "    leftLen = len(leftArray)\n",
    "    rightLen = len(rightArray)\n",
    "    #定义一个返回的列表,这一步就代表空间复杂度至少是 O(n)\n",
    "    retList = []\n",
    "    #循环两个数组寻找最小值加入到返回值的数组中\n",
    "    while leftIndex < leftLen and rightIndex < rightLen:\n",
    "        if leftArray[leftIndex] < rightArray[rightIndex]:\n",
    "            retList.append(leftArray[leftIndex])\n",
    "            leftIndex += 1\n",
    "        else:\n",
    "            retList.append(rightArray[rightIndex])\n",
    "            rightIndex += 1\n",
    "            sum += 1\n",
    "            \n",
    "\n",
    "    #下面的代码是将剩余的数组中内容放置在返回的数组中\n",
    "    if leftIndex < leftLen:\n",
    "        sum += (leftLen-leftIndex+1)\n",
    "    retList.extend(leftArray[leftIndex:])\n",
    "\n",
    "    # while leftIndex < leftLen:\n",
    "    #     retList.append(leftArray[leftIndex])\n",
    "    #     leftIndex += 1\n",
    "\n",
    "    retList.extend(rightArray[rightIndex:])\n",
    "\n",
    "    # while rightIndex < rightLen:\n",
    "    #     retList.append(rightArray[rightIndex])\n",
    "    #     rightIndex += 1\n",
    "\n",
    "    return retList\n",
    "\n",
    "\n",
    "if __name__ == '__main__':\n",
    "    # 14,33,27,10,35,19,42,44\n",
    "\n",
    "    retList = MergeSort([1,2,3,4,5,6,7,0])\n",
    "    print(retList)"
   ]
  },
  {
   "cell_type": "markdown",
   "metadata": {},
   "source": [
    "### 快速排序"
   ]
  },
  {
   "cell_type": "code",
   "execution_count": 17,
   "metadata": {},
   "outputs": [
    {
     "data": {
      "text/plain": [
       "[0, 1, 2, 3, 4]"
      ]
     },
     "execution_count": 17,
     "metadata": {},
     "output_type": "execute_result"
    }
   ],
   "source": [
    "def quicksort(array,left=0,right=None):\n",
    "    arrayLen = len(array)\n",
    "    if arrayLen<=1:\n",
    "        return array\n",
    "    \n",
    "    if right == None:\n",
    "        right = arrayLen-1\n",
    "    if left < right:\n",
    "        pivot = partition(array,left,right)\n",
    "        quicksort(array,left,pivot-1)\n",
    "        quicksort(array,pivot+1,right)\n",
    "        \n",
    "# def partition(array,left,right):\n",
    "#     pivotvalue = array[right]\n",
    "    \n",
    "#     i = left\n",
    "#     j = right - 1\n",
    "#     while i<j:\n",
    "#         while j > left and array[j] > pivotvalue:\n",
    "#             j -= 1\n",
    "#         while i < right and array[i] <= pivotvalue:\n",
    "#             i += 1\n",
    "#         if i < j:\n",
    "#             array[j],array[i] = array[i],array[j]\n",
    "#             i += 1\n",
    "#             j -= 1\n",
    "#     array[i],array[right] = array[right],array[i]\n",
    "#     return i\n",
    "\n",
    "def partition(array,left,right):\n",
    "    i = left - 1\n",
    "    for j in range(left,right):\n",
    "        if array[j] < array[right]:\n",
    "            array[i+1],array[j] = array[j],array[i+1]\n",
    "            i += 1\n",
    "    array[i+1],array[right] = array[right],array[i+1]\n",
    "    return i    \n",
    "\n",
    "array = [2,3,1,4,0]\n",
    "quicksort(array) \n",
    "array"
   ]
  },
  {
   "cell_type": "code",
   "execution_count": 68,
   "metadata": {},
   "outputs": [],
   "source": [
    "class ListNode:\n",
    "    def __init__(self, x):\n",
    "        self.val = x\n",
    "        self.next = None"
   ]
  },
  {
   "cell_type": "code",
   "execution_count": 116,
   "metadata": {},
   "outputs": [],
   "source": [
    "n1 = ListNode(2) # 9-9-8 + 2\n",
    "n2 = ListNode(4)\n",
    "n3 = ListNode(3)\n",
    "n1.next = n2\n",
    "n2.next = n3\n",
    "n4 = ListNode(5)\n",
    "n5 = ListNode(6)\n",
    "n6 = ListNode(4)\n",
    "n4.next = n5\n",
    "n5.next = n6\n"
   ]
  },
  {
   "cell_type": "markdown",
   "metadata": {},
   "source": [
    "### 不重复最长串"
   ]
  },
  {
   "cell_type": "code",
   "execution_count": 71,
   "metadata": {},
   "outputs": [],
   "source": [
    " def removeDuplicateLetters( s_org: str) -> str:\n",
    "        s = ''.join(['0', s_org, '0'])\n",
    "        print(s)\n",
    "        stk = [s[0]]\n",
    "        for i in range(1, len(s)):\n",
    "            if s[i] in stk:\n",
    "                continue  \n",
    "            while s[i] < stk[-1]:\n",
    "                if stk[-1] in s[i+1:]:\n",
    "                    stk.pop()\n",
    "                else:\n",
    "                    break\n",
    "            stk.append(s[i])\n",
    "        return ''.join(stk[1:])\n",
    "\n",
    "removeDuplicateLetters(\"bddbccd\")"
   ]
  },
  {
   "cell_type": "code",
   "execution_count": 4,
   "metadata": {},
   "outputs": [],
   "source": [
    "dp = [False]*12"
   ]
  },
  {
   "cell_type": "markdown",
   "metadata": {},
   "source": [
    "### 'ABC'全排列,回溯法"
   ]
  },
  {
   "cell_type": "code",
   "execution_count": 203,
   "metadata": {},
   "outputs": [],
   "source": [
    "result = []\n",
    "res = []\n",
    "def randomstr(string):\n",
    "    string = list(string)\n",
    "    if string == []:\n",
    "            result.append(''.join(res))\n",
    "            #return  # 好习惯\n",
    "    for i in range(len(string)):\n",
    "        c = string.pop(i)\n",
    "        if c:\n",
    "            res.append(c)\n",
    "            randomstr(string)\n",
    "            string.insert(i,c)\n",
    "            res.pop() # 一次迭代回来,res=[]\n",
    "randomstr('ABC')\n",
    "\n",
    "result"
   ]
  },
  {
   "cell_type": "markdown",
   "metadata": {},
   "source": [
    "### IP 地址"
   ]
  },
  {
   "cell_type": "code",
   "execution_count": 232,
   "metadata": {},
   "outputs": [],
   "source": [
    "result= []\n",
    "res = []\n",
    "def randomstr1(strip,index,level):\n",
    "    if level == 5 or index == len(strip)-1:\n",
    "        if level == 5 and index == len(strip)-1:\n",
    "                 result.append('.'.join(res))\n",
    "        return 0 #不加会int()不了\n",
    "    for i in range(1,4):\n",
    "        x = strip[index+1:index+1+i]\n",
    "        if x!='':\n",
    "            if  int(x)<256 and (x=='0' or  x[0] != '0'):\n",
    "                    res.append(x)\n",
    "                    randomstr1(strip,index+i,level+1)\n",
    "                    res.pop()\n",
    "randomstr1('1111',-1,1)    \n",
    "\n",
    "result"
   ]
  },
  {
   "cell_type": "markdown",
   "metadata": {},
   "source": [
    "### IP 自己推广"
   ]
  },
  {
   "cell_type": "code",
   "execution_count": 3,
   "metadata": {},
   "outputs": [
    {
     "data": {
      "text/plain": [
       "['1.1.1.1', '1.1.1.1', '1.1.1.1']"
      ]
     },
     "execution_count": 3,
     "metadata": {},
     "output_type": "execute_result"
    }
   ],
   "source": [
    "result= []\n",
    "res = []\n",
    "def randomstr1(strip,level):\n",
    "    # 退出条件\n",
    "    if level == 5 or strip=='':\n",
    "        if level == 5 and strip=='':\n",
    "                 result.append('.'.join(res))\n",
    "        return 0 #不加会int()不了\n",
    "    for i in range(1,4):\n",
    "        x = strip[:i]\n",
    "        if  int(x)<256 and (x=='0' or  x[0] != '0'):\n",
    "                res.append(x)\n",
    "                strip = strip[i:]\n",
    "                randomstr1(strip,level+1)\n",
    "                strip = x + strip\n",
    "                res.pop()\n",
    "randomstr1('1111',1)    \n",
    "\n",
    "result"
   ]
  },
  {
   "cell_type": "markdown",
   "metadata": {},
   "source": [
    "### 翻译,回溯法"
   ]
  },
  {
   "cell_type": "code",
   "execution_count": 2,
   "metadata": {},
   "outputs": [
    {
     "data": {
      "text/plain": [
       "['abc', 'aw', 'lc']"
      ]
     },
     "execution_count": 2,
     "metadata": {},
     "output_type": "execute_result"
    }
   ],
   "source": [
    "# 暗号\n",
    "def jiemi(string):\n",
    "    result= []\n",
    "    res = []\n",
    "    def randomstr1(strip):\n",
    "        if strip=='':\n",
    "            if list(res) not in result:\n",
    "                result.append(''.join(list(res)))\n",
    "            return 0 #不加会int()不了\n",
    "        for i in range(1,3):\n",
    "            x = strip[:i]\n",
    "            if  0<int(x)<27:\n",
    "                    res.append(chr(int(x)+96))\n",
    "                    strip = strip[i:]\n",
    "                    randomstr1(strip)\n",
    "                    strip = x + strip\n",
    "                    res.pop()\n",
    "    randomstr1(string)\n",
    "    return sorted(list(set(result))) \n",
    "jiemi('123')"
   ]
  },
  {
   "cell_type": "code",
   "execution_count": null,
   "metadata": {},
   "outputs": [],
   "source": [
    "#完成映射  dict1 = {i+1:chr(j)  for i,j in enumerate(range(ord(\"a\"),ord(\"z\")+1)) }\n",
    "#     def change(list1):  直接源头处理\n",
    "#         res = []\n",
    "#         for i in list1:\n",
    "#             res1 = [chr(j+96) for j in i]\n",
    "#             res.append(''.join(res1))\n",
    "#         return  res"
   ]
  },
  {
   "cell_type": "code",
   "execution_count": 345,
   "metadata": {},
   "outputs": [
    {
     "data": {
      "text/plain": [
       "['abc', 'cba']"
      ]
     },
     "execution_count": 345,
     "metadata": {},
     "output_type": "execute_result"
    }
   ],
   "source": [
    "list2 = [[1,2,3],[3,2,1]]\n",
    "for i in range(len(list2)):\n",
    "    for j in range(len(list2[i])):  # 一定要加len\n",
    "        list2[i][j] = chr(list2[i][j]+96)\n",
    "    list2[i]=''.join(list2[i])\n",
    "list2"
   ]
  },
  {
   "cell_type": "code",
   "execution_count": 44,
   "metadata": {},
   "outputs": [],
   "source": [
    "def intervalSchedule(intervals):\n",
    "    # 不相交个数\n",
    "    count = 1\n",
    "    intervals.sort(key=(lambda x:x[1]))\n",
    "    print(intervals)\n",
    "    x_end = intervals[0][1]\n",
    "    for interval in intervals:\n",
    "        start = interval[0]\n",
    "        print(start,x_end)\n",
    "        if start >= x_end:\n",
    "            count += 1\n",
    "            x_end = interval[1]\n",
    "    return count"
   ]
  },
  {
   "cell_type": "code",
   "execution_count": 45,
   "metadata": {},
   "outputs": [
    {
     "name": "stdout",
     "output_type": "stream",
     "text": [
      "[[0, 2], [1, 3], [2, 4], [3, 5], [4, 6]]\n",
      "0 2\n",
      "1 2\n",
      "2 2\n",
      "3 4\n",
      "4 4\n"
     ]
    },
    {
     "data": {
      "text/plain": [
       "3"
      ]
     },
     "execution_count": 45,
     "metadata": {},
     "output_type": "execute_result"
    }
   ],
   "source": [
    "intervalSchedule([[0,2],[1,3],[2,4],[3,5],[4,6]])"
   ]
  },
  {
   "cell_type": "markdown",
   "metadata": {},
   "source": [
    "### 最短路径"
   ]
  },
  {
   "cell_type": "code",
   "execution_count": 21,
   "metadata": {},
   "outputs": [
    {
     "data": {
      "text/plain": [
       "21"
      ]
     },
     "execution_count": 21,
     "metadata": {},
     "output_type": "execute_result"
    }
   ],
   "source": [
    "import copy\n",
    "def find_best_path_cost( A ):\n",
    "        # write code here\n",
    "        if A == None:\n",
    "             return None\n",
    "        n = len(A) # 行\n",
    "        m = len(A[0])\n",
    "        dp = [[A[0][0]]*m for _ in range(n)]\n",
    "        #初始化\n",
    "        for i in range(1,n):\n",
    "            dp[i][0] = A[i][0] + dp[i-1][0]\n",
    "        for j in range(1,m):\n",
    "            dp[0][j] = A[0][j] + dp[0][j-1]\n",
    "        for i in range(1,n):\n",
    "            for j in range(1,m):\n",
    "                dp[i][j] = min(dp[i-1][j],dp[i][j-1])+A[i][j]\n",
    "        return dp[n-1][m-1]\n",
    "\n",
    "find_best_path_cost([[1,2,3],[4,5,6],[7,8,9]])"
   ]
  }
 ],
 "metadata": {
  "kernelspec": {
   "display_name": "Python 3",
   "language": "python",
   "name": "python3"
  },
  "language_info": {
   "codemirror_mode": {
    "name": "ipython",
    "version": 3
   },
   "file_extension": ".py",
   "mimetype": "text/x-python",
   "name": "python",
   "nbconvert_exporter": "python",
   "pygments_lexer": "ipython3",
   "version": "3.7.0"
  }
 },
 "nbformat": 4,
 "nbformat_minor": 2
}
