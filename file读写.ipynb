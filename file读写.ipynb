{
 "cells": [
  {
   "cell_type": "markdown",
   "metadata": {},
   "source": [
    "### 获取多个文件路径"
   ]
  },
  {
   "cell_type": "markdown",
   "metadata": {},
   "source": [
    "1.os.walk(dir)  # 获取文件夹下信息，root,dirs,files\n",
    "    # 1. files 获取文件夹下的文件名\n",
    "    # 2. dirs 获取文件夹下文件夹\n",
    "    # 3. root 返回所有文件夹路径\n",
    "2.os.path.join(root,file) 连接成路径\n",
    "\n",
    "3.pandas 读取文件\n",
    "    # 1.txt -- pd.read_table()  \n",
    "    # 2.csv -- pd.read_csv()\n",
    "    # 3.xls -- pd.read_excel()\n",
    "    # 4.json -- pd.read_json()"
   ]
  },
  {
   "cell_type": "code",
   "execution_count": 98,
   "metadata": {},
   "outputs": [
    {
     "data": {
      "text/plain": [
       "['D:\\\\JupyterWork\\\\base\\\\read_file\\\\1.csv',\n",
       " 'D:\\\\JupyterWork\\\\base\\\\read_file\\\\1.xls',\n",
       " 'D:\\\\JupyterWork\\\\base\\\\read_file\\\\A.json',\n",
       " 'D:\\\\JupyterWork\\\\base\\\\read_file\\\\a.txt',\n",
       " 'D:\\\\JupyterWork\\\\base\\\\read_file\\\\B.json',\n",
       " 'D:\\\\JupyterWork\\\\base\\\\read_file\\\\b.txt',\n",
       " 'D:\\\\JupyterWork\\\\base\\\\read_file\\\\C.json',\n",
       " 'D:\\\\JupyterWork\\\\base\\\\read_file\\\\c.txt']"
      ]
     },
     "execution_count": 98,
     "metadata": {},
     "output_type": "execute_result"
    }
   ],
   "source": [
    "import os\n",
    "import pandas as pd\n",
    "\n",
    "dir = r\"D:\\JupyterWork\\base\\read_file\"#设置工作路径，文件夹位置\n",
    "\n",
    "#新建列表，存放文件名（可以忽略，但是为了做的过程能心里有数，先放上）\n",
    "filename_excel = []\n",
    "\n",
    "for root, dirs, files in os.walk(dir):    # 获取文件夹下的信息\n",
    "    for file in files:\n",
    "        filename_excel.append(os.path.join(root,file)) # 保存所有文件夹下文件的路径\n",
    "filename_excel"
   ]
  },
  {
   "cell_type": "markdown",
   "metadata": {},
   "source": [
    "### 一、读取txt文件\n",
    "\n",
    "#### 1.读"
   ]
  },
  {
   "cell_type": "code",
   "execution_count": 30,
   "metadata": {},
   "outputs": [
    {
     "data": {
      "text/plain": [
       "'1\\na'"
      ]
     },
     "execution_count": 30,
     "metadata": {},
     "output_type": "execute_result"
    }
   ],
   "source": [
    "# 原始方式\n",
    "with open(r'D:\\\\JupyterWork\\\\base\\\\read_file\\\\a.txt') as a:\n",
    "    # a0、a1、a2取一个\n",
    "    a0 = a.read()   # '1\\na'  全部连城成一个string\n",
    "    # a1 = a.readlines()  #['1\\n', 'a'] , 一行一次，存入list\n",
    "    # a2 = a.readline()   # '1\\n' 读第一行 = a[0]"
   ]
  },
  {
   "cell_type": "code",
   "execution_count": 127,
   "metadata": {},
   "outputs": [
    {
     "data": {
      "text/html": [
       "<div>\n",
       "<style scoped>\n",
       "    .dataframe tbody tr th:only-of-type {\n",
       "        vertical-align: middle;\n",
       "    }\n",
       "\n",
       "    .dataframe tbody tr th {\n",
       "        vertical-align: top;\n",
       "    }\n",
       "\n",
       "    .dataframe thead th {\n",
       "        text-align: right;\n",
       "    }\n",
       "</style>\n",
       "<table border=\"1\" class=\"dataframe\">\n",
       "  <thead>\n",
       "    <tr style=\"text-align: right;\">\n",
       "      <th></th>\n",
       "      <th>1</th>\n",
       "    </tr>\n",
       "  </thead>\n",
       "  <tbody>\n",
       "    <tr>\n",
       "      <th>0</th>\n",
       "      <td>a三A</td>\n",
       "    </tr>\n",
       "    <tr>\n",
       "      <th>1</th>\n",
       "      <td>三A三A</td>\n",
       "    </tr>\n",
       "    <tr>\n",
       "      <th>2</th>\n",
       "      <td>三A三A</td>\n",
       "    </tr>\n",
       "    <tr>\n",
       "      <th>3</th>\n",
       "      <td>三A三A</td>\n",
       "    </tr>\n",
       "    <tr>\n",
       "      <th>4</th>\n",
       "      <td>三A</td>\n",
       "    </tr>\n",
       "  </tbody>\n",
       "</table>\n",
       "</div>"
      ],
      "text/plain": [
       "      1\n",
       "0   a三A\n",
       "1  三A三A\n",
       "2  三A三A\n",
       "3  三A三A\n",
       "4    三A"
      ]
     },
     "execution_count": 127,
     "metadata": {},
     "output_type": "execute_result"
    }
   ],
   "source": [
    "# pandas读\n",
    "a = pd.read_table(r'D:\\\\JupyterWork\\\\base\\\\read_file\\\\a.txt')\n",
    "a"
   ]
  },
  {
   "cell_type": "markdown",
   "metadata": {},
   "source": [
    "#### 2.写"
   ]
  },
  {
   "cell_type": "code",
   "execution_count": 49,
   "metadata": {},
   "outputs": [],
   "source": [
    "# 'r':只读，'w'只写覆盖，'a'追加， 'r+':读写，指针在开头，'w+'读写+覆盖，'a+'读写，指针在结尾\n",
    "with open(r'D:\\\\JupyterWork\\\\base\\\\read_file\\\\a.txt','a',encoding='utf-8') as a:\n",
    "    a.write('三A')  # 直接写在行后\n",
    "    a.write('\\n三A') # 换行再写\n",
    "    a.close()"
   ]
  },
  {
   "cell_type": "markdown",
   "metadata": {},
   "source": [
    "pandas 没有写入txt文件的"
   ]
  },
  {
   "cell_type": "markdown",
   "metadata": {},
   "source": [
    "### 二、读取json文件\n",
    "\n",
    " loads 方法将 JSON 文本字符串转为 JSON 对象\n",
    "\n",
    "可以通过 dumps() 方法将 JSON 对象转为文本字符串。\n",
    "\n",
    "#### 1.读"
   ]
  },
  {
   "cell_type": "code",
   "execution_count": 70,
   "metadata": {},
   "outputs": [
    {
     "data": {
      "text/plain": [
       "([{'name': ' 王A ', 'gender': ' 男 ', 'birthday': '1992-10-18'}], list)"
      ]
     },
     "execution_count": 70,
     "metadata": {},
     "output_type": "execute_result"
    }
   ],
   "source": [
    "import json\n",
    "with open(r'D:\\\\JupyterWork\\\\base\\\\read_file\\\\A.json','r',encoding='utf-8') as A:\n",
    "    # 由于写入的是字符串，读取要先转成json对象\n",
    "    string = A.read() \n",
    "    A = json.loads(string)\n",
    "A,type(A)"
   ]
  },
  {
   "cell_type": "code",
   "execution_count": 71,
   "metadata": {},
   "outputs": [
    {
     "data": {
      "text/plain": [
       "([{'name': ' 王A ', 'gender': ' 男 ', 'birthday': '1992-10-18'}], list)"
      ]
     },
     "execution_count": 71,
     "metadata": {},
     "output_type": "execute_result"
    }
   ],
   "source": [
    "# 同上\n",
    "import json\n",
    "with open(r'D:\\\\JupyterWork\\\\base\\\\read_file\\\\A.json','r',encoding='utf-8') as A:\n",
    "    # 由于写入的是字符串，读取要先转成json对象 \n",
    "    A = json.load(A)\n",
    "A,type(A)"
   ]
  },
  {
   "cell_type": "markdown",
   "metadata": {},
   "source": [
    "##### pandas 读 json\n",
    "\n",
    "orient:\n",
    "\n",
    "1.'split' : dict like {index : [index], columns : [columns], data : [values]}\n",
    "\n",
    "2.'records' : list like [{column : value}, ... , {column : value}]\n",
    "\n",
    "3.'index' : dict like {index:{column : value}}\n",
    "\n",
    "4.'columns' : dict like {column :{index :value}}\n",
    "\n",
    "5.'values' : just the values array"
   ]
  },
  {
   "cell_type": "code",
   "execution_count": 92,
   "metadata": {},
   "outputs": [
    {
     "data": {
      "text/html": [
       "<div>\n",
       "<style scoped>\n",
       "    .dataframe tbody tr th:only-of-type {\n",
       "        vertical-align: middle;\n",
       "    }\n",
       "\n",
       "    .dataframe tbody tr th {\n",
       "        vertical-align: top;\n",
       "    }\n",
       "\n",
       "    .dataframe thead th {\n",
       "        text-align: right;\n",
       "    }\n",
       "</style>\n",
       "<table border=\"1\" class=\"dataframe\">\n",
       "  <thead>\n",
       "    <tr style=\"text-align: right;\">\n",
       "      <th></th>\n",
       "      <th>birthday</th>\n",
       "      <th>gender</th>\n",
       "      <th>name</th>\n",
       "    </tr>\n",
       "  </thead>\n",
       "  <tbody>\n",
       "    <tr>\n",
       "      <th>0</th>\n",
       "      <td>1992-10-18</td>\n",
       "      <td>男</td>\n",
       "      <td>王A</td>\n",
       "    </tr>\n",
       "    <tr>\n",
       "      <th>1</th>\n",
       "      <td>1992-10-18</td>\n",
       "      <td>男</td>\n",
       "      <td>王B</td>\n",
       "    </tr>\n",
       "  </tbody>\n",
       "</table>\n",
       "</div>"
      ],
      "text/plain": [
       "     birthday gender  name\n",
       "0  1992-10-18     男    王A \n",
       "1  1992-10-18     男    王B "
      ]
     },
     "execution_count": 92,
     "metadata": {},
     "output_type": "execute_result"
    }
   ],
   "source": [
    "data = pd.read_json(r'D:\\\\JupyterWork\\\\base\\\\read_file\\\\A.json',orient='records',encoding='utf-8')\n",
    "data"
   ]
  },
  {
   "cell_type": "markdown",
   "metadata": {},
   "source": [
    "#### 2.写\n",
    "encoding='utf-8'   +  ensure_ascii=False  = 输出中文 \n",
    "\n",
    "indent   缩进字符\n",
    "\n",
    "json 不要直接追加含[]，要重写"
   ]
  },
  {
   "cell_type": "code",
   "execution_count": 91,
   "metadata": {},
   "outputs": [],
   "source": [
    "import json\n",
    "data = [{\n",
    "    'name': ' 王A ',\n",
    "    'gender': ' 男 ',\n",
    "    'birthday': '1992-10-18'\n",
    "},{\n",
    "    'name': ' 王B ',\n",
    "    'gender': ' 男 ',\n",
    "    'birthday': '1992-10-18'\n",
    "}]   # json对象\n",
    "with open(r'D:\\\\JupyterWork\\\\base\\\\read_file\\\\A.json','w',encoding='utf-8') as A:\n",
    "    # 转成字符串再写入\n",
    "    A.write(json.dumps(data,indent=2,ensure_ascii=False))  "
   ]
  },
  {
   "cell_type": "markdown",
   "metadata": {},
   "source": [
    "##### pandas 写入 json   、、 DataFrame->json"
   ]
  },
  {
   "cell_type": "code",
   "execution_count": 123,
   "metadata": {},
   "outputs": [],
   "source": [
    "# 根据需求调整参数orient。中文数据时，需要把force_ascii设置为false{\n",
    "df = {\n",
    "    'name': ' 王C ',\n",
    "    'gender': ' 男 ',\n",
    "    'birthday': '1992-10-18'\n",
    "}\n",
    "df = pd.DataFrame(df,index =range(1))\n",
    "# df.to_json('read_file\\\\A.json',orient='records')  # 无法显示中文,to_json()是DataFrame类的方法，read_json()是pandas的方法\n",
    "\n",
    "\n",
    "# 可显示中文，DataFrame格式转为json\n",
    "str1 = df.to_json(orient='records')\n",
    "# 这里得到的是json字符串，里面有很多转义字符。如果想要规范的json类型，需要继续操作\n",
    "str2 = json.loads(str1)\n",
    "# 如果需要输出到json文件, indent是缩进的位数，sort_keys能根据df键排序后输出。\n",
    "with open('read_file\\\\A.json', \"a\", encoding='utf-8') as f:\n",
    "\tf.write(json.dumps(str2, indent=4,  ensure_ascii=False, sort_keys=True))"
   ]
  },
  {
   "cell_type": "markdown",
   "metadata": {},
   "source": [
    "### 三、读取csv文件\n",
    "\n",
    "#### 1.读"
   ]
  },
  {
   "cell_type": "code",
   "execution_count": 137,
   "metadata": {},
   "outputs": [
    {
     "name": "stdout",
     "output_type": "stream",
     "text": [
      "['1', '2', '3']\n",
      "['4', '5', '6']\n"
     ]
    }
   ],
   "source": [
    "import csv\n",
    "with open(r'read_file\\\\1.csv') as file:\n",
    "#     f = file.read()  # 全部看出字符串形式，不推荐\n",
    "# 获取每一行的迭代对象\n",
    "    f = csv.reader(file)\n",
    "    for i in f:\n",
    "        print(i)"
   ]
  },
  {
   "cell_type": "code",
   "execution_count": 141,
   "metadata": {},
   "outputs": [
    {
     "data": {
      "text/html": [
       "<div>\n",
       "<style scoped>\n",
       "    .dataframe tbody tr th:only-of-type {\n",
       "        vertical-align: middle;\n",
       "    }\n",
       "\n",
       "    .dataframe tbody tr th {\n",
       "        vertical-align: top;\n",
       "    }\n",
       "\n",
       "    .dataframe thead th {\n",
       "        text-align: right;\n",
       "    }\n",
       "</style>\n",
       "<table border=\"1\" class=\"dataframe\">\n",
       "  <thead>\n",
       "    <tr style=\"text-align: right;\">\n",
       "      <th></th>\n",
       "      <th>1,2,3</th>\n",
       "    </tr>\n",
       "  </thead>\n",
       "  <tbody>\n",
       "    <tr>\n",
       "      <th>0</th>\n",
       "      <td>4,5,6</td>\n",
       "    </tr>\n",
       "  </tbody>\n",
       "</table>\n",
       "</div>"
      ],
      "text/plain": [
       "   1,2,3\n",
       "0  4,5,6"
      ]
     },
     "execution_count": 141,
     "metadata": {},
     "output_type": "execute_result"
    }
   ],
   "source": [
    "# pandas 读\n",
    "f = pd.read_csv(r'read_file\\\\1.csv','r',encoding='utf-8')\n",
    "f"
   ]
  },
  {
   "cell_type": "markdown",
   "metadata": {},
   "source": [
    "#### 2.写"
   ]
  },
  {
   "cell_type": "code",
   "execution_count": 146,
   "metadata": {},
   "outputs": [],
   "source": [
    "import csv\n",
    "\n",
    "# 每次写入一行\n",
    "with open(r'read_file\\\\1.csv', 'a') as csvfile:\n",
    "    writer = csv.writer(csvfile)   #  writer = csv.writer(csvfile, delimiter=' ')  分割方式\n",
    "    writer.writerow(['id', 'name', 'age']) # 传入list\n",
    "    writer.writerow(['10001', 'Mike', 20])\n",
    "    writer.writerow(['10002', 'Bob', 22])\n",
    "    writer.writerow(['10003', 'Jordan', 21])\n",
    "    \n",
    "# 一次写入多行,同上\n",
    "    writer.writerows([['id', 'name', 'age'],['10001', 'Mike', 20], ['10002', 'Bob', 22], ['10003', 'Jordan', 21]])"
   ]
  },
  {
   "cell_type": "code",
   "execution_count": 149,
   "metadata": {},
   "outputs": [],
   "source": [
    "# 写入的是字典\n",
    "import csv\n",
    "\n",
    "with open(r'read_file\\\\1.csv', 'a') as csvfile:\n",
    "    fieldnames = ['id1', 'name', 'age']\n",
    "    writer = csv.DictWriter(csvfile, fieldnames=fieldnames)\n",
    "    writer.writeheader()\n",
    "    writer.writerow({'id1': '10001', 'name': 'Mike', 'age': 20})\n",
    "    writer.writerow({'id1': '10002', 'name': 'Bob', 'age': 22})\n",
    "    writer.writerow({'id1': '10003', 'name': 'Jordan', 'age': 21})"
   ]
  },
  {
   "cell_type": "markdown",
   "metadata": {},
   "source": [
    "pandas写入"
   ]
  },
  {
   "cell_type": "code",
   "execution_count": 178,
   "metadata": {},
   "outputs": [
    {
     "name": "stdout",
     "output_type": "stream",
     "text": [
      "     id1  name  age\n",
      "0  10001  Mike   20\n"
     ]
    }
   ],
   "source": [
    "# to_csv()是DataFrame类的方法，read_csv()是pandas的方法\n",
    "s = {'id1': '10001', 'name': 'Mike', 'age': 20}\n",
    "s = pd.DataFrame(s,index=range(1))\n",
    "s.to_csv(r'read_file\\\\1.csv')"
   ]
  },
  {
   "cell_type": "code",
   "execution_count": 192,
   "metadata": {},
   "outputs": [
    {
     "data": {
      "text/html": [
       "<div>\n",
       "<style scoped>\n",
       "    .dataframe tbody tr th:only-of-type {\n",
       "        vertical-align: middle;\n",
       "    }\n",
       "\n",
       "    .dataframe tbody tr th {\n",
       "        vertical-align: top;\n",
       "    }\n",
       "\n",
       "    .dataframe thead th {\n",
       "        text-align: right;\n",
       "    }\n",
       "</style>\n",
       "<table border=\"1\" class=\"dataframe\">\n",
       "  <thead>\n",
       "    <tr style=\"text-align: right;\">\n",
       "      <th></th>\n",
       "      <th>0</th>\n",
       "      <th>1</th>\n",
       "      <th>2</th>\n",
       "    </tr>\n",
       "  </thead>\n",
       "  <tbody>\n",
       "    <tr>\n",
       "      <th>0</th>\n",
       "      <td>id1</td>\n",
       "      <td>name</td>\n",
       "      <td>age</td>\n",
       "    </tr>\n",
       "    <tr>\n",
       "      <th>1</th>\n",
       "      <td>10001</td>\n",
       "      <td>Mike</td>\n",
       "      <td>20</td>\n",
       "    </tr>\n",
       "  </tbody>\n",
       "</table>\n",
       "</div>"
      ],
      "text/plain": [
       "       0     1    2\n",
       "0    id1  name  age\n",
       "1  10001  Mike   20"
      ]
     },
     "execution_count": 192,
     "metadata": {},
     "output_type": "execute_result"
    }
   ],
   "source": [
    "s1 = [['id1', 'name', 'age'],['10001', 'Mike', 20]]\n",
    "s1 = pd.DataFrame(s1)\n",
    "s1"
   ]
  },
  {
   "cell_type": "markdown",
   "metadata": {},
   "source": [
    "### 三、读取excel文件--直接pandas读写\n",
    "\n",
    "#### 1.读 "
   ]
  },
  {
   "cell_type": "code",
   "execution_count": 166,
   "metadata": {},
   "outputs": [
    {
     "data": {
      "text/html": [
       "<div>\n",
       "<style scoped>\n",
       "    .dataframe tbody tr th:only-of-type {\n",
       "        vertical-align: middle;\n",
       "    }\n",
       "\n",
       "    .dataframe tbody tr th {\n",
       "        vertical-align: top;\n",
       "    }\n",
       "\n",
       "    .dataframe thead th {\n",
       "        text-align: right;\n",
       "    }\n",
       "</style>\n",
       "<table border=\"1\" class=\"dataframe\">\n",
       "  <thead>\n",
       "    <tr style=\"text-align: right;\">\n",
       "      <th></th>\n",
       "      <th>1</th>\n",
       "    </tr>\n",
       "  </thead>\n",
       "  <tbody>\n",
       "    <tr>\n",
       "      <th>0</th>\n",
       "      <td>A</td>\n",
       "    </tr>\n",
       "  </tbody>\n",
       "</table>\n",
       "</div>"
      ],
      "text/plain": [
       "   1\n",
       "0  A"
      ]
     },
     "execution_count": 166,
     "metadata": {},
     "output_type": "execute_result"
    }
   ],
   "source": [
    "data = pd.read_excel(r'read_file\\\\1.xls',encoding='utf-8')\n",
    "data"
   ]
  },
  {
   "cell_type": "markdown",
   "metadata": {},
   "source": [
    "##### 2.写"
   ]
  },
  {
   "cell_type": "code",
   "execution_count": 181,
   "metadata": {},
   "outputs": [
    {
     "data": {
      "text/html": [
       "<div>\n",
       "<style scoped>\n",
       "    .dataframe tbody tr th:only-of-type {\n",
       "        vertical-align: middle;\n",
       "    }\n",
       "\n",
       "    .dataframe tbody tr th {\n",
       "        vertical-align: top;\n",
       "    }\n",
       "\n",
       "    .dataframe thead th {\n",
       "        text-align: right;\n",
       "    }\n",
       "</style>\n",
       "<table border=\"1\" class=\"dataframe\">\n",
       "  <thead>\n",
       "    <tr style=\"text-align: right;\">\n",
       "      <th></th>\n",
       "      <th>id1</th>\n",
       "      <th>name</th>\n",
       "      <th>age</th>\n",
       "    </tr>\n",
       "  </thead>\n",
       "  <tbody>\n",
       "    <tr>\n",
       "      <th>0</th>\n",
       "      <td>10001</td>\n",
       "      <td>Mike</td>\n",
       "      <td>20</td>\n",
       "    </tr>\n",
       "  </tbody>\n",
       "</table>\n",
       "</div>"
      ],
      "text/plain": [
       "     id1  name  age\n",
       "0  10001  Mike   20"
      ]
     },
     "execution_count": 181,
     "metadata": {},
     "output_type": "execute_result"
    }
   ],
   "source": [
    "df = {'id1': ['10001'], 'name': ['Mike'], 'age': [20]}\n",
    "df = pd.DataFrame(df)\n",
    "\n",
    "# 或\n",
    "# df = {'id1': '10001', 'name': 'Mike', 'age': 20}\n",
    "# df = pd.DataFrame(df，index=range(0))\n",
    "df.to_excel(r'read_file\\\\1.xls')"
   ]
  }
 ],
 "metadata": {
  "kernelspec": {
   "display_name": "Python 3",
   "language": "python",
   "name": "python3"
  },
  "language_info": {
   "codemirror_mode": {
    "name": "ipython",
    "version": 3
   },
   "file_extension": ".py",
   "mimetype": "text/x-python",
   "name": "python",
   "nbconvert_exporter": "python",
   "pygments_lexer": "ipython3",
   "version": "3.7.0"
  }
 },
 "nbformat": 4,
 "nbformat_minor": 2
}
